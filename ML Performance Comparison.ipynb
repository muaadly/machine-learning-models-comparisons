{
  "cells": [
    {
      "cell_type": "markdown",
      "metadata": {
        "id": "8jRCghKoVU3E"
      },
      "source": [
        "# Performance Comparison between Support Vector Machine, Random Forest and Gaussian Naïve Bayes on German Credit and Breast Cancer datasets"
      ]
    },
    {
      "cell_type": "markdown",
      "metadata": {
        "id": "Fu61zRX1VU3G"
      },
      "source": [
        "<b> Notebook Contenst: </b>\n",
        "- 1. Introduction.\n",
        "        - Problem 1.\n",
        "        - Problem 2.\n",
        "        \n",
        "        \n",
        "- 2. Dataset Description.\n",
        "\n",
        "        - Dataset (A) Description: \n",
        "            - Dataset (A) Exploratory Data Analysis.\n",
        "            - Dataset (A) Features Selection. \n",
        "            - Dataset (A) Data Preprocessing.\n",
        "            - Dataset (A) Models Development and Evaluation.\n",
        "            \n",
        "        - Dataset (B) Description:\n",
        "            - Dataset (B) Exploratory Data Analysis.\n",
        "            - Dataset (B) Features Selection. \n",
        "            - Dataset (B) Data Preprocessing.\n",
        "            - Dataset (B) Models Development and Evaluation\n",
        "            \n",
        "- 3 References\n",
        "\n",
        "- 4 Summary \n",
        "\n",
        "<b> Title </b>: Performance Comparison between Support Vector Machine, Random Forest and Gaussian Naïve Bayes on German Credit and Breast Cancer datasets.\n",
        "\n",
        "<b> Name: </b> Muaad Siala\n",
        "\n",
        "<b> Email </b> Muaad144301@gmail.com\n"
      ]
    },
    {
      "cell_type": "markdown",
      "metadata": {
        "id": "igGsud19VU3H"
      },
      "source": [
        "# 1. Introduction "
      ]
    },
    {
      "cell_type": "markdown",
      "metadata": {
        "id": "KzTPQMRXVU3I"
      },
      "source": [
        "\n",
        "<b> Problem 1: </b>  \n",
        "The German Credit Data provides information on (20 features) & (1000 records). As well as a classification of whether an application is classified as good or bad credit risk (1 Target variable: \"Risk\"). The Bank manager should be able to use a predictive model built on this data to help him/her decide whether or not to approve a loan to a prospective applicant based on his or her profiles.\n",
        "\n",
        "<b> Problem 2: </b>  \n",
        "The breast Cancer dataset is contains  32 features and 570 records. As well as a classification of whether a cell is classified as M or B (1 Target variable: \"diagnosis\n",
        "\"). The doctor should be able to use a predictive model built on this data to help him/her decide whether or not to approve a case of paient.\n",
        "\n"
      ]
    },
    {
      "cell_type": "markdown",
      "metadata": {
        "id": "6XhHvXQrVU3I"
      },
      "source": [
        "# • Importing libraries: "
      ]
    },
    {
      "cell_type": "code",
      "execution_count": null,
      "metadata": {
        "id": "7GoZuEpCVU3J"
      },
      "outputs": [],
      "source": [
        "# Importing Libraries - T1 describe all libraries that used in this notebook\n",
        "import os\n",
        "import pandas as pd \n",
        "import numpy as np\n",
        "import seaborn as sns\n",
        "import matplotlib.pyplot as plt # plotting\n",
        "%matplotlib inline\n",
        "from collections import Counter\n",
        "from mpl_toolkits.mplot3d import Axes3D\n",
        "from sklearn.preprocessing import StandardScaler\n",
        "from scipy.stats import f_oneway\n",
        "from scipy.stats import chi2_contingency\n",
        "from sklearn.model_selection import train_test_split\n",
        "from sklearn.preprocessing import StandardScaler, MinMaxScaler\n",
        "from sklearn.model_selection import train_test_split\n",
        "from sklearn import svm # Support Vector Machines(SVM)\n",
        "from sklearn import metrics\n",
        "from sklearn.model_selection import cross_val_score # Importing cross validation function from sklearn\n",
        "from sklearn.linear_model import LogisticRegression # Logistic Regression\n",
        "from sklearn import metrics # Measuring accuracy on Testing Data\n",
        "from sklearn.model_selection import cross_val_score # Importing cross validation function from sklearn\n",
        "from pandas import read_csv\n",
        "from sklearn import datasets \n",
        "from sklearn.datasets import load_breast_cancer\n",
        "from sklearn.naive_bayes import GaussianNB\n",
        "from sklearn.tree import DecisionTreeClassifier \n",
        "from sklearn.linear_model import Perceptron\n",
        "from sklearn.neural_network import MLPClassifier\n",
        "from sklearn.model_selection import StratifiedKFold\n",
        "from matplotlib import pyplot\n",
        "from sklearn.ensemble import RandomForestClassifier\n",
        "from sklearn import preprocessing\n",
        "from sklearn import svm\n",
        "# Importing the model:\n",
        "#from sklearn.ensemble import RandomForestClassifier\n"
      ]
    },
    {
      "cell_type": "markdown",
      "metadata": {
        "id": "qxbt1cNFVU3K"
      },
      "source": [
        "# 2. Datasets Descriptions "
      ]
    },
    {
      "cell_type": "markdown",
      "metadata": {
        "id": "wIX7A8cYVU3K"
      },
      "source": [
        "# (A) German credit data description:"
      ]
    },
    {
      "cell_type": "markdown",
      "metadata": {
        "id": "iv7_fALUVU3K"
      },
      "source": [
        "German credit dataset classifies people described by a set of attributes as good or bad credit risks. Comes in two formats (one all numeric). Also comes with a cost matrix.\n",
        "\n",
        "\n",
        "<b> Dataset Link: https://archive.ics.uci.edu/ml/datasets/statlog+(german+credit+data) </b>\n",
        "\n",
        "\n",
        "<b> The above link provides two datasets: </b>\n",
        " \n",
        " - First dataset:  (German data) contain 20 categrocal features + 1 Target feature. (1000 x 21)\n",
        " - Second dataset:  (German Numerical Data) which is ready for Machine Learning. \n",
        "\n",
        "\n",
        "\n",
        " In this project I used first data (German.data) dataset contins 21 columns (features) and 1000 records (rows): </b>\n",
        "\n",
        "- <b> ex_balance </b>             ->  Status of existing checking account\n",
        "- <b>dur_month  </b>            ->  Duration in month\n",
        "- <b>cred_hist   </b>           ->  Credit history\n",
        "- <b>purpose   </b>             ->  Purpose\n",
        "- <b>cred_amont </b>            ->  Credit amount\n",
        "- <b>save_bonds_acc  </b>       ->  Savings account/bonds\n",
        "- <b>presnt_emply_since </b>   ->  Present employment since\n",
        "- <b>install_rate_disp_incm </b>->  Installment rate in percentage of disposable income\n",
        "- <b>perso_status_sex  </b>     ->  Personal status and sex\n",
        "- <b>other_debtors    </b>      ->  Other debtors / guarantors\n",
        "- <b>presn_residen_sinc </b>    ->  Present residence since\n",
        "- <b>prop        </b>           ->  Property\n",
        "- <b>age        </b>            ->  Age in years\n",
        "- <b>othr_inst_pln  </b>        ->  Other installment plans\n",
        "- <b>hous          </b>         ->  Housing\n",
        "- <b>num_ext_cred_this_bnk </b> ->  Number of existing credits at this bank\n",
        "- <b>job        </b>            ->  Job\n",
        "- <b>num_liable   </b>          ->  Number of people being liable to provide maintenance for\n",
        "- <b>tel        </b>            ->  Telephone\n",
        "- <b>fore_wrk   </b>            ->  Foreign worker\n",
        "- <b>Risk        </b>           ->  Cost Matrix ( Good or Bad )"
      ]
    },
    {
      "cell_type": "code",
      "execution_count": null,
      "metadata": {
        "collapsed": true,
        "id": "YIgDJR72VU3L",
        "outputId": "a6200a35-6629-4e83-a45b-825c37c03c51"
      },
      "outputs": [
        {
          "data": {
            "text/html": [
              "<div>\n",
              "<style scoped>\n",
              "    .dataframe tbody tr th:only-of-type {\n",
              "        vertical-align: middle;\n",
              "    }\n",
              "\n",
              "    .dataframe tbody tr th {\n",
              "        vertical-align: top;\n",
              "    }\n",
              "\n",
              "    .dataframe thead th {\n",
              "        text-align: right;\n",
              "    }\n",
              "</style>\n",
              "<table border=\"1\" class=\"dataframe\">\n",
              "  <thead>\n",
              "    <tr style=\"text-align: right;\">\n",
              "      <th></th>\n",
              "      <th>0</th>\n",
              "      <th>1</th>\n",
              "      <th>2</th>\n",
              "      <th>3</th>\n",
              "      <th>4</th>\n",
              "      <th>5</th>\n",
              "      <th>6</th>\n",
              "      <th>7</th>\n",
              "      <th>8</th>\n",
              "      <th>9</th>\n",
              "      <th>...</th>\n",
              "      <th>11</th>\n",
              "      <th>12</th>\n",
              "      <th>13</th>\n",
              "      <th>14</th>\n",
              "      <th>15</th>\n",
              "      <th>16</th>\n",
              "      <th>17</th>\n",
              "      <th>18</th>\n",
              "      <th>19</th>\n",
              "      <th>20</th>\n",
              "    </tr>\n",
              "  </thead>\n",
              "  <tbody>\n",
              "    <tr>\n",
              "      <th>0</th>\n",
              "      <td>A11</td>\n",
              "      <td>6</td>\n",
              "      <td>A34</td>\n",
              "      <td>A43</td>\n",
              "      <td>1169</td>\n",
              "      <td>A65</td>\n",
              "      <td>A75</td>\n",
              "      <td>4</td>\n",
              "      <td>A93</td>\n",
              "      <td>A101</td>\n",
              "      <td>...</td>\n",
              "      <td>A121</td>\n",
              "      <td>67</td>\n",
              "      <td>A143</td>\n",
              "      <td>A152</td>\n",
              "      <td>2</td>\n",
              "      <td>A173</td>\n",
              "      <td>1</td>\n",
              "      <td>A192</td>\n",
              "      <td>A201</td>\n",
              "      <td>1</td>\n",
              "    </tr>\n",
              "    <tr>\n",
              "      <th>1</th>\n",
              "      <td>A12</td>\n",
              "      <td>48</td>\n",
              "      <td>A32</td>\n",
              "      <td>A43</td>\n",
              "      <td>5951</td>\n",
              "      <td>A61</td>\n",
              "      <td>A73</td>\n",
              "      <td>2</td>\n",
              "      <td>A92</td>\n",
              "      <td>A101</td>\n",
              "      <td>...</td>\n",
              "      <td>A121</td>\n",
              "      <td>22</td>\n",
              "      <td>A143</td>\n",
              "      <td>A152</td>\n",
              "      <td>1</td>\n",
              "      <td>A173</td>\n",
              "      <td>1</td>\n",
              "      <td>A191</td>\n",
              "      <td>A201</td>\n",
              "      <td>2</td>\n",
              "    </tr>\n",
              "    <tr>\n",
              "      <th>2</th>\n",
              "      <td>A14</td>\n",
              "      <td>12</td>\n",
              "      <td>A34</td>\n",
              "      <td>A46</td>\n",
              "      <td>2096</td>\n",
              "      <td>A61</td>\n",
              "      <td>A74</td>\n",
              "      <td>2</td>\n",
              "      <td>A93</td>\n",
              "      <td>A101</td>\n",
              "      <td>...</td>\n",
              "      <td>A121</td>\n",
              "      <td>49</td>\n",
              "      <td>A143</td>\n",
              "      <td>A152</td>\n",
              "      <td>1</td>\n",
              "      <td>A172</td>\n",
              "      <td>2</td>\n",
              "      <td>A191</td>\n",
              "      <td>A201</td>\n",
              "      <td>1</td>\n",
              "    </tr>\n",
              "    <tr>\n",
              "      <th>3</th>\n",
              "      <td>A11</td>\n",
              "      <td>42</td>\n",
              "      <td>A32</td>\n",
              "      <td>A42</td>\n",
              "      <td>7882</td>\n",
              "      <td>A61</td>\n",
              "      <td>A74</td>\n",
              "      <td>2</td>\n",
              "      <td>A93</td>\n",
              "      <td>A103</td>\n",
              "      <td>...</td>\n",
              "      <td>A122</td>\n",
              "      <td>45</td>\n",
              "      <td>A143</td>\n",
              "      <td>A153</td>\n",
              "      <td>1</td>\n",
              "      <td>A173</td>\n",
              "      <td>2</td>\n",
              "      <td>A191</td>\n",
              "      <td>A201</td>\n",
              "      <td>1</td>\n",
              "    </tr>\n",
              "    <tr>\n",
              "      <th>4</th>\n",
              "      <td>A11</td>\n",
              "      <td>24</td>\n",
              "      <td>A33</td>\n",
              "      <td>A40</td>\n",
              "      <td>4870</td>\n",
              "      <td>A61</td>\n",
              "      <td>A73</td>\n",
              "      <td>3</td>\n",
              "      <td>A93</td>\n",
              "      <td>A101</td>\n",
              "      <td>...</td>\n",
              "      <td>A124</td>\n",
              "      <td>53</td>\n",
              "      <td>A143</td>\n",
              "      <td>A153</td>\n",
              "      <td>2</td>\n",
              "      <td>A173</td>\n",
              "      <td>2</td>\n",
              "      <td>A191</td>\n",
              "      <td>A201</td>\n",
              "      <td>2</td>\n",
              "    </tr>\n",
              "  </tbody>\n",
              "</table>\n",
              "<p>5 rows × 21 columns</p>\n",
              "</div>"
            ],
            "text/plain": [
              "    0   1    2    3     4    5    6   7    8     9   ...    11  12    13  \\\n",
              "0  A11   6  A34  A43  1169  A65  A75   4  A93  A101  ...  A121  67  A143   \n",
              "1  A12  48  A32  A43  5951  A61  A73   2  A92  A101  ...  A121  22  A143   \n",
              "2  A14  12  A34  A46  2096  A61  A74   2  A93  A101  ...  A121  49  A143   \n",
              "3  A11  42  A32  A42  7882  A61  A74   2  A93  A103  ...  A122  45  A143   \n",
              "4  A11  24  A33  A40  4870  A61  A73   3  A93  A101  ...  A124  53  A143   \n",
              "\n",
              "     14 15    16 17    18    19 20  \n",
              "0  A152  2  A173  1  A192  A201  1  \n",
              "1  A152  1  A173  1  A191  A201  2  \n",
              "2  A152  1  A172  2  A191  A201  1  \n",
              "3  A153  1  A173  2  A191  A201  1  \n",
              "4  A153  2  A173  2  A191  A201  2  \n",
              "\n",
              "[5 rows x 21 columns]"
            ]
          },
          "execution_count": 41,
          "metadata": {},
          "output_type": "execute_result"
        }
      ],
      "source": [
        "# Reading German Credit Dataset\n",
        "GD =  pd.read_csv(\"german.data\", sep=\" \",header=None)\n",
        "# Displing first 5 rows of dataset\n",
        "GD.head()"
      ]
    },
    {
      "cell_type": "code",
      "execution_count": null,
      "metadata": {
        "collapsed": true,
        "id": "Y2yTzbgMVU3M",
        "outputId": "89fd3c88-be80-4298-a9f3-1efd909d7779"
      },
      "outputs": [
        {
          "data": {
            "text/html": [
              "<div>\n",
              "<style scoped>\n",
              "    .dataframe tbody tr th:only-of-type {\n",
              "        vertical-align: middle;\n",
              "    }\n",
              "\n",
              "    .dataframe tbody tr th {\n",
              "        vertical-align: top;\n",
              "    }\n",
              "\n",
              "    .dataframe thead th {\n",
              "        text-align: right;\n",
              "    }\n",
              "</style>\n",
              "<table border=\"1\" class=\"dataframe\">\n",
              "  <thead>\n",
              "    <tr style=\"text-align: right;\">\n",
              "      <th></th>\n",
              "      <th>ex_balance</th>\n",
              "      <th>dur_month</th>\n",
              "      <th>cred_hist</th>\n",
              "      <th>purpose</th>\n",
              "      <th>cred_amont</th>\n",
              "      <th>save_bonds_acc</th>\n",
              "      <th>presnt_emply_since</th>\n",
              "      <th>install_rate_disp_incm</th>\n",
              "      <th>perso_status_sex</th>\n",
              "      <th>other_debtors</th>\n",
              "      <th>...</th>\n",
              "      <th>property</th>\n",
              "      <th>age</th>\n",
              "      <th>othr_inst_pln</th>\n",
              "      <th>hous</th>\n",
              "      <th>num_ext_cred_this_bnk</th>\n",
              "      <th>job</th>\n",
              "      <th>num_liable</th>\n",
              "      <th>tel</th>\n",
              "      <th>fore_wrk</th>\n",
              "      <th>Risk</th>\n",
              "    </tr>\n",
              "  </thead>\n",
              "  <tbody>\n",
              "    <tr>\n",
              "      <th>0</th>\n",
              "      <td>A11</td>\n",
              "      <td>6</td>\n",
              "      <td>A34</td>\n",
              "      <td>A43</td>\n",
              "      <td>1169</td>\n",
              "      <td>A65</td>\n",
              "      <td>A75</td>\n",
              "      <td>4</td>\n",
              "      <td>A93</td>\n",
              "      <td>A101</td>\n",
              "      <td>...</td>\n",
              "      <td>A121</td>\n",
              "      <td>67</td>\n",
              "      <td>A143</td>\n",
              "      <td>A152</td>\n",
              "      <td>2</td>\n",
              "      <td>A173</td>\n",
              "      <td>1</td>\n",
              "      <td>A192</td>\n",
              "      <td>A201</td>\n",
              "      <td>1</td>\n",
              "    </tr>\n",
              "    <tr>\n",
              "      <th>1</th>\n",
              "      <td>A12</td>\n",
              "      <td>48</td>\n",
              "      <td>A32</td>\n",
              "      <td>A43</td>\n",
              "      <td>5951</td>\n",
              "      <td>A61</td>\n",
              "      <td>A73</td>\n",
              "      <td>2</td>\n",
              "      <td>A92</td>\n",
              "      <td>A101</td>\n",
              "      <td>...</td>\n",
              "      <td>A121</td>\n",
              "      <td>22</td>\n",
              "      <td>A143</td>\n",
              "      <td>A152</td>\n",
              "      <td>1</td>\n",
              "      <td>A173</td>\n",
              "      <td>1</td>\n",
              "      <td>A191</td>\n",
              "      <td>A201</td>\n",
              "      <td>2</td>\n",
              "    </tr>\n",
              "    <tr>\n",
              "      <th>2</th>\n",
              "      <td>A14</td>\n",
              "      <td>12</td>\n",
              "      <td>A34</td>\n",
              "      <td>A46</td>\n",
              "      <td>2096</td>\n",
              "      <td>A61</td>\n",
              "      <td>A74</td>\n",
              "      <td>2</td>\n",
              "      <td>A93</td>\n",
              "      <td>A101</td>\n",
              "      <td>...</td>\n",
              "      <td>A121</td>\n",
              "      <td>49</td>\n",
              "      <td>A143</td>\n",
              "      <td>A152</td>\n",
              "      <td>1</td>\n",
              "      <td>A172</td>\n",
              "      <td>2</td>\n",
              "      <td>A191</td>\n",
              "      <td>A201</td>\n",
              "      <td>1</td>\n",
              "    </tr>\n",
              "    <tr>\n",
              "      <th>3</th>\n",
              "      <td>A11</td>\n",
              "      <td>42</td>\n",
              "      <td>A32</td>\n",
              "      <td>A42</td>\n",
              "      <td>7882</td>\n",
              "      <td>A61</td>\n",
              "      <td>A74</td>\n",
              "      <td>2</td>\n",
              "      <td>A93</td>\n",
              "      <td>A103</td>\n",
              "      <td>...</td>\n",
              "      <td>A122</td>\n",
              "      <td>45</td>\n",
              "      <td>A143</td>\n",
              "      <td>A153</td>\n",
              "      <td>1</td>\n",
              "      <td>A173</td>\n",
              "      <td>2</td>\n",
              "      <td>A191</td>\n",
              "      <td>A201</td>\n",
              "      <td>1</td>\n",
              "    </tr>\n",
              "    <tr>\n",
              "      <th>4</th>\n",
              "      <td>A11</td>\n",
              "      <td>24</td>\n",
              "      <td>A33</td>\n",
              "      <td>A40</td>\n",
              "      <td>4870</td>\n",
              "      <td>A61</td>\n",
              "      <td>A73</td>\n",
              "      <td>3</td>\n",
              "      <td>A93</td>\n",
              "      <td>A101</td>\n",
              "      <td>...</td>\n",
              "      <td>A124</td>\n",
              "      <td>53</td>\n",
              "      <td>A143</td>\n",
              "      <td>A153</td>\n",
              "      <td>2</td>\n",
              "      <td>A173</td>\n",
              "      <td>2</td>\n",
              "      <td>A191</td>\n",
              "      <td>A201</td>\n",
              "      <td>2</td>\n",
              "    </tr>\n",
              "    <tr>\n",
              "      <th>...</th>\n",
              "      <td>...</td>\n",
              "      <td>...</td>\n",
              "      <td>...</td>\n",
              "      <td>...</td>\n",
              "      <td>...</td>\n",
              "      <td>...</td>\n",
              "      <td>...</td>\n",
              "      <td>...</td>\n",
              "      <td>...</td>\n",
              "      <td>...</td>\n",
              "      <td>...</td>\n",
              "      <td>...</td>\n",
              "      <td>...</td>\n",
              "      <td>...</td>\n",
              "      <td>...</td>\n",
              "      <td>...</td>\n",
              "      <td>...</td>\n",
              "      <td>...</td>\n",
              "      <td>...</td>\n",
              "      <td>...</td>\n",
              "      <td>...</td>\n",
              "    </tr>\n",
              "    <tr>\n",
              "      <th>995</th>\n",
              "      <td>A14</td>\n",
              "      <td>12</td>\n",
              "      <td>A32</td>\n",
              "      <td>A42</td>\n",
              "      <td>1736</td>\n",
              "      <td>A61</td>\n",
              "      <td>A74</td>\n",
              "      <td>3</td>\n",
              "      <td>A92</td>\n",
              "      <td>A101</td>\n",
              "      <td>...</td>\n",
              "      <td>A121</td>\n",
              "      <td>31</td>\n",
              "      <td>A143</td>\n",
              "      <td>A152</td>\n",
              "      <td>1</td>\n",
              "      <td>A172</td>\n",
              "      <td>1</td>\n",
              "      <td>A191</td>\n",
              "      <td>A201</td>\n",
              "      <td>1</td>\n",
              "    </tr>\n",
              "    <tr>\n",
              "      <th>996</th>\n",
              "      <td>A11</td>\n",
              "      <td>30</td>\n",
              "      <td>A32</td>\n",
              "      <td>A41</td>\n",
              "      <td>3857</td>\n",
              "      <td>A61</td>\n",
              "      <td>A73</td>\n",
              "      <td>4</td>\n",
              "      <td>A91</td>\n",
              "      <td>A101</td>\n",
              "      <td>...</td>\n",
              "      <td>A122</td>\n",
              "      <td>40</td>\n",
              "      <td>A143</td>\n",
              "      <td>A152</td>\n",
              "      <td>1</td>\n",
              "      <td>A174</td>\n",
              "      <td>1</td>\n",
              "      <td>A192</td>\n",
              "      <td>A201</td>\n",
              "      <td>1</td>\n",
              "    </tr>\n",
              "    <tr>\n",
              "      <th>997</th>\n",
              "      <td>A14</td>\n",
              "      <td>12</td>\n",
              "      <td>A32</td>\n",
              "      <td>A43</td>\n",
              "      <td>804</td>\n",
              "      <td>A61</td>\n",
              "      <td>A75</td>\n",
              "      <td>4</td>\n",
              "      <td>A93</td>\n",
              "      <td>A101</td>\n",
              "      <td>...</td>\n",
              "      <td>A123</td>\n",
              "      <td>38</td>\n",
              "      <td>A143</td>\n",
              "      <td>A152</td>\n",
              "      <td>1</td>\n",
              "      <td>A173</td>\n",
              "      <td>1</td>\n",
              "      <td>A191</td>\n",
              "      <td>A201</td>\n",
              "      <td>1</td>\n",
              "    </tr>\n",
              "    <tr>\n",
              "      <th>998</th>\n",
              "      <td>A11</td>\n",
              "      <td>45</td>\n",
              "      <td>A32</td>\n",
              "      <td>A43</td>\n",
              "      <td>1845</td>\n",
              "      <td>A61</td>\n",
              "      <td>A73</td>\n",
              "      <td>4</td>\n",
              "      <td>A93</td>\n",
              "      <td>A101</td>\n",
              "      <td>...</td>\n",
              "      <td>A124</td>\n",
              "      <td>23</td>\n",
              "      <td>A143</td>\n",
              "      <td>A153</td>\n",
              "      <td>1</td>\n",
              "      <td>A173</td>\n",
              "      <td>1</td>\n",
              "      <td>A192</td>\n",
              "      <td>A201</td>\n",
              "      <td>2</td>\n",
              "    </tr>\n",
              "    <tr>\n",
              "      <th>999</th>\n",
              "      <td>A12</td>\n",
              "      <td>45</td>\n",
              "      <td>A34</td>\n",
              "      <td>A41</td>\n",
              "      <td>4576</td>\n",
              "      <td>A62</td>\n",
              "      <td>A71</td>\n",
              "      <td>3</td>\n",
              "      <td>A93</td>\n",
              "      <td>A101</td>\n",
              "      <td>...</td>\n",
              "      <td>A123</td>\n",
              "      <td>27</td>\n",
              "      <td>A143</td>\n",
              "      <td>A152</td>\n",
              "      <td>1</td>\n",
              "      <td>A173</td>\n",
              "      <td>1</td>\n",
              "      <td>A191</td>\n",
              "      <td>A201</td>\n",
              "      <td>1</td>\n",
              "    </tr>\n",
              "  </tbody>\n",
              "</table>\n",
              "<p>1000 rows × 21 columns</p>\n",
              "</div>"
            ],
            "text/plain": [
              "    ex_balance  dur_month cred_hist purpose  cred_amont save_bonds_acc  \\\n",
              "0          A11          6       A34     A43        1169            A65   \n",
              "1          A12         48       A32     A43        5951            A61   \n",
              "2          A14         12       A34     A46        2096            A61   \n",
              "3          A11         42       A32     A42        7882            A61   \n",
              "4          A11         24       A33     A40        4870            A61   \n",
              "..         ...        ...       ...     ...         ...            ...   \n",
              "995        A14         12       A32     A42        1736            A61   \n",
              "996        A11         30       A32     A41        3857            A61   \n",
              "997        A14         12       A32     A43         804            A61   \n",
              "998        A11         45       A32     A43        1845            A61   \n",
              "999        A12         45       A34     A41        4576            A62   \n",
              "\n",
              "    presnt_emply_since  install_rate_disp_incm perso_status_sex other_debtors  \\\n",
              "0                  A75                       4              A93          A101   \n",
              "1                  A73                       2              A92          A101   \n",
              "2                  A74                       2              A93          A101   \n",
              "3                  A74                       2              A93          A103   \n",
              "4                  A73                       3              A93          A101   \n",
              "..                 ...                     ...              ...           ...   \n",
              "995                A74                       3              A92          A101   \n",
              "996                A73                       4              A91          A101   \n",
              "997                A75                       4              A93          A101   \n",
              "998                A73                       4              A93          A101   \n",
              "999                A71                       3              A93          A101   \n",
              "\n",
              "     ...  property age  othr_inst_pln  hous num_ext_cred_this_bnk   job  \\\n",
              "0    ...      A121  67           A143  A152                     2  A173   \n",
              "1    ...      A121  22           A143  A152                     1  A173   \n",
              "2    ...      A121  49           A143  A152                     1  A172   \n",
              "3    ...      A122  45           A143  A153                     1  A173   \n",
              "4    ...      A124  53           A143  A153                     2  A173   \n",
              "..   ...       ...  ..            ...   ...                   ...   ...   \n",
              "995  ...      A121  31           A143  A152                     1  A172   \n",
              "996  ...      A122  40           A143  A152                     1  A174   \n",
              "997  ...      A123  38           A143  A152                     1  A173   \n",
              "998  ...      A124  23           A143  A153                     1  A173   \n",
              "999  ...      A123  27           A143  A152                     1  A173   \n",
              "\n",
              "    num_liable   tel fore_wrk Risk  \n",
              "0            1  A192     A201    1  \n",
              "1            1  A191     A201    2  \n",
              "2            2  A191     A201    1  \n",
              "3            2  A191     A201    1  \n",
              "4            2  A191     A201    2  \n",
              "..         ...   ...      ...  ...  \n",
              "995          1  A191     A201    1  \n",
              "996          1  A192     A201    1  \n",
              "997          1  A191     A201    1  \n",
              "998          1  A192     A201    2  \n",
              "999          1  A191     A201    1  \n",
              "\n",
              "[1000 rows x 21 columns]"
            ]
          },
          "execution_count": 42,
          "metadata": {},
          "output_type": "execute_result"
        }
      ],
      "source": [
        "# Specifying the features of the dataset.\n",
        "features=[\"ex_balance\",\"dur_month\",\"cred_hist\",\\\n",
        "         \"purpose\",\"cred_amont\",\"save_bonds_acc\",\"presnt_emply_since\",\\\n",
        "         \"install_rate_disp_incm\",\"perso_status_sex\",\\\n",
        "         \"other_debtors\",\"presn_residen_sinc\",\"property\",\"age\",\\\n",
        "        \"othr_inst_pln\",\"hous\",\"num_ext_cred_this_bnk\",\\\n",
        "        \"job\",\"num_liable\",\"tel\",\"fore_wrk\",\"Risk\"]\n",
        "\n",
        "# Adding features to the dataset as first row \n",
        "GD.columns = features\n",
        "GD"
      ]
    },
    {
      "cell_type": "code",
      "execution_count": null,
      "metadata": {
        "collapsed": true,
        "id": "IgI2MunLVU3M",
        "outputId": "9e8f749b-e888-4e75-c0ad-d91a52275f60"
      },
      "outputs": [
        {
          "name": "stdout",
          "output_type": "stream",
          "text": [
            "<class 'pandas.core.frame.DataFrame'>\n",
            "RangeIndex: 1000 entries, 0 to 999\n",
            "Data columns (total 21 columns):\n",
            " #   Column                  Non-Null Count  Dtype \n",
            "---  ------                  --------------  ----- \n",
            " 0   ex_balance              1000 non-null   object\n",
            " 1   dur_month               1000 non-null   int64 \n",
            " 2   cred_hist               1000 non-null   object\n",
            " 3   purpose                 1000 non-null   object\n",
            " 4   cred_amont              1000 non-null   int64 \n",
            " 5   save_bonds_acc          1000 non-null   object\n",
            " 6   presnt_emply_since      1000 non-null   object\n",
            " 7   install_rate_disp_incm  1000 non-null   int64 \n",
            " 8   perso_status_sex        1000 non-null   object\n",
            " 9   other_debtors           1000 non-null   object\n",
            " 10  presn_residen_sinc      1000 non-null   int64 \n",
            " 11  property                1000 non-null   object\n",
            " 12  age                     1000 non-null   int64 \n",
            " 13  othr_inst_pln           1000 non-null   object\n",
            " 14  hous                    1000 non-null   object\n",
            " 15  num_ext_cred_this_bnk   1000 non-null   int64 \n",
            " 16  job                     1000 non-null   object\n",
            " 17  num_liable              1000 non-null   int64 \n",
            " 18  tel                     1000 non-null   object\n",
            " 19  fore_wrk                1000 non-null   object\n",
            " 20  Risk                    1000 non-null   int64 \n",
            "dtypes: int64(8), object(13)\n",
            "memory usage: 164.2+ KB\n"
          ]
        }
      ],
      "source": [
        "# Dataset informations\n",
        "GD.info()"
      ]
    },
    {
      "cell_type": "code",
      "execution_count": null,
      "metadata": {
        "collapsed": true,
        "id": "G0zPoXGRVU3M",
        "outputId": "a42a8bd3-522f-4819-b0e2-873e123744ef"
      },
      "outputs": [
        {
          "data": {
            "text/html": [
              "<div>\n",
              "<style scoped>\n",
              "    .dataframe tbody tr th:only-of-type {\n",
              "        vertical-align: middle;\n",
              "    }\n",
              "\n",
              "    .dataframe tbody tr th {\n",
              "        vertical-align: top;\n",
              "    }\n",
              "\n",
              "    .dataframe thead th {\n",
              "        text-align: right;\n",
              "    }\n",
              "</style>\n",
              "<table border=\"1\" class=\"dataframe\">\n",
              "  <thead>\n",
              "    <tr style=\"text-align: right;\">\n",
              "      <th></th>\n",
              "      <th>ex_balance</th>\n",
              "      <th>dur_month</th>\n",
              "      <th>cred_hist</th>\n",
              "      <th>purpose</th>\n",
              "      <th>cred_amont</th>\n",
              "      <th>save_bonds_acc</th>\n",
              "      <th>presnt_emply_since</th>\n",
              "      <th>install_rate_disp_incm</th>\n",
              "      <th>perso_status_sex</th>\n",
              "      <th>other_debtors</th>\n",
              "      <th>...</th>\n",
              "      <th>property</th>\n",
              "      <th>age</th>\n",
              "      <th>othr_inst_pln</th>\n",
              "      <th>hous</th>\n",
              "      <th>num_ext_cred_this_bnk</th>\n",
              "      <th>job</th>\n",
              "      <th>num_liable</th>\n",
              "      <th>tel</th>\n",
              "      <th>fore_wrk</th>\n",
              "      <th>Risk</th>\n",
              "    </tr>\n",
              "  </thead>\n",
              "  <tbody>\n",
              "    <tr>\n",
              "      <th>count</th>\n",
              "      <td>1000</td>\n",
              "      <td>1000.000000</td>\n",
              "      <td>1000</td>\n",
              "      <td>1000</td>\n",
              "      <td>1000.000000</td>\n",
              "      <td>1000</td>\n",
              "      <td>1000</td>\n",
              "      <td>1000.000000</td>\n",
              "      <td>1000</td>\n",
              "      <td>1000</td>\n",
              "      <td>...</td>\n",
              "      <td>1000</td>\n",
              "      <td>1000.000000</td>\n",
              "      <td>1000</td>\n",
              "      <td>1000</td>\n",
              "      <td>1000.000000</td>\n",
              "      <td>1000</td>\n",
              "      <td>1000.000000</td>\n",
              "      <td>1000</td>\n",
              "      <td>1000</td>\n",
              "      <td>1000.000000</td>\n",
              "    </tr>\n",
              "    <tr>\n",
              "      <th>unique</th>\n",
              "      <td>4</td>\n",
              "      <td>NaN</td>\n",
              "      <td>5</td>\n",
              "      <td>10</td>\n",
              "      <td>NaN</td>\n",
              "      <td>5</td>\n",
              "      <td>5</td>\n",
              "      <td>NaN</td>\n",
              "      <td>4</td>\n",
              "      <td>3</td>\n",
              "      <td>...</td>\n",
              "      <td>4</td>\n",
              "      <td>NaN</td>\n",
              "      <td>3</td>\n",
              "      <td>3</td>\n",
              "      <td>NaN</td>\n",
              "      <td>4</td>\n",
              "      <td>NaN</td>\n",
              "      <td>2</td>\n",
              "      <td>2</td>\n",
              "      <td>NaN</td>\n",
              "    </tr>\n",
              "    <tr>\n",
              "      <th>top</th>\n",
              "      <td>A14</td>\n",
              "      <td>NaN</td>\n",
              "      <td>A32</td>\n",
              "      <td>A43</td>\n",
              "      <td>NaN</td>\n",
              "      <td>A61</td>\n",
              "      <td>A73</td>\n",
              "      <td>NaN</td>\n",
              "      <td>A93</td>\n",
              "      <td>A101</td>\n",
              "      <td>...</td>\n",
              "      <td>A123</td>\n",
              "      <td>NaN</td>\n",
              "      <td>A143</td>\n",
              "      <td>A152</td>\n",
              "      <td>NaN</td>\n",
              "      <td>A173</td>\n",
              "      <td>NaN</td>\n",
              "      <td>A191</td>\n",
              "      <td>A201</td>\n",
              "      <td>NaN</td>\n",
              "    </tr>\n",
              "    <tr>\n",
              "      <th>freq</th>\n",
              "      <td>394</td>\n",
              "      <td>NaN</td>\n",
              "      <td>530</td>\n",
              "      <td>280</td>\n",
              "      <td>NaN</td>\n",
              "      <td>603</td>\n",
              "      <td>339</td>\n",
              "      <td>NaN</td>\n",
              "      <td>548</td>\n",
              "      <td>907</td>\n",
              "      <td>...</td>\n",
              "      <td>332</td>\n",
              "      <td>NaN</td>\n",
              "      <td>814</td>\n",
              "      <td>713</td>\n",
              "      <td>NaN</td>\n",
              "      <td>630</td>\n",
              "      <td>NaN</td>\n",
              "      <td>596</td>\n",
              "      <td>963</td>\n",
              "      <td>NaN</td>\n",
              "    </tr>\n",
              "    <tr>\n",
              "      <th>mean</th>\n",
              "      <td>NaN</td>\n",
              "      <td>20.903000</td>\n",
              "      <td>NaN</td>\n",
              "      <td>NaN</td>\n",
              "      <td>3271.258000</td>\n",
              "      <td>NaN</td>\n",
              "      <td>NaN</td>\n",
              "      <td>2.973000</td>\n",
              "      <td>NaN</td>\n",
              "      <td>NaN</td>\n",
              "      <td>...</td>\n",
              "      <td>NaN</td>\n",
              "      <td>35.546000</td>\n",
              "      <td>NaN</td>\n",
              "      <td>NaN</td>\n",
              "      <td>1.407000</td>\n",
              "      <td>NaN</td>\n",
              "      <td>1.155000</td>\n",
              "      <td>NaN</td>\n",
              "      <td>NaN</td>\n",
              "      <td>1.300000</td>\n",
              "    </tr>\n",
              "    <tr>\n",
              "      <th>std</th>\n",
              "      <td>NaN</td>\n",
              "      <td>12.058814</td>\n",
              "      <td>NaN</td>\n",
              "      <td>NaN</td>\n",
              "      <td>2822.736876</td>\n",
              "      <td>NaN</td>\n",
              "      <td>NaN</td>\n",
              "      <td>1.118715</td>\n",
              "      <td>NaN</td>\n",
              "      <td>NaN</td>\n",
              "      <td>...</td>\n",
              "      <td>NaN</td>\n",
              "      <td>11.375469</td>\n",
              "      <td>NaN</td>\n",
              "      <td>NaN</td>\n",
              "      <td>0.577654</td>\n",
              "      <td>NaN</td>\n",
              "      <td>0.362086</td>\n",
              "      <td>NaN</td>\n",
              "      <td>NaN</td>\n",
              "      <td>0.458487</td>\n",
              "    </tr>\n",
              "    <tr>\n",
              "      <th>min</th>\n",
              "      <td>NaN</td>\n",
              "      <td>4.000000</td>\n",
              "      <td>NaN</td>\n",
              "      <td>NaN</td>\n",
              "      <td>250.000000</td>\n",
              "      <td>NaN</td>\n",
              "      <td>NaN</td>\n",
              "      <td>1.000000</td>\n",
              "      <td>NaN</td>\n",
              "      <td>NaN</td>\n",
              "      <td>...</td>\n",
              "      <td>NaN</td>\n",
              "      <td>19.000000</td>\n",
              "      <td>NaN</td>\n",
              "      <td>NaN</td>\n",
              "      <td>1.000000</td>\n",
              "      <td>NaN</td>\n",
              "      <td>1.000000</td>\n",
              "      <td>NaN</td>\n",
              "      <td>NaN</td>\n",
              "      <td>1.000000</td>\n",
              "    </tr>\n",
              "    <tr>\n",
              "      <th>25%</th>\n",
              "      <td>NaN</td>\n",
              "      <td>12.000000</td>\n",
              "      <td>NaN</td>\n",
              "      <td>NaN</td>\n",
              "      <td>1365.500000</td>\n",
              "      <td>NaN</td>\n",
              "      <td>NaN</td>\n",
              "      <td>2.000000</td>\n",
              "      <td>NaN</td>\n",
              "      <td>NaN</td>\n",
              "      <td>...</td>\n",
              "      <td>NaN</td>\n",
              "      <td>27.000000</td>\n",
              "      <td>NaN</td>\n",
              "      <td>NaN</td>\n",
              "      <td>1.000000</td>\n",
              "      <td>NaN</td>\n",
              "      <td>1.000000</td>\n",
              "      <td>NaN</td>\n",
              "      <td>NaN</td>\n",
              "      <td>1.000000</td>\n",
              "    </tr>\n",
              "    <tr>\n",
              "      <th>50%</th>\n",
              "      <td>NaN</td>\n",
              "      <td>18.000000</td>\n",
              "      <td>NaN</td>\n",
              "      <td>NaN</td>\n",
              "      <td>2319.500000</td>\n",
              "      <td>NaN</td>\n",
              "      <td>NaN</td>\n",
              "      <td>3.000000</td>\n",
              "      <td>NaN</td>\n",
              "      <td>NaN</td>\n",
              "      <td>...</td>\n",
              "      <td>NaN</td>\n",
              "      <td>33.000000</td>\n",
              "      <td>NaN</td>\n",
              "      <td>NaN</td>\n",
              "      <td>1.000000</td>\n",
              "      <td>NaN</td>\n",
              "      <td>1.000000</td>\n",
              "      <td>NaN</td>\n",
              "      <td>NaN</td>\n",
              "      <td>1.000000</td>\n",
              "    </tr>\n",
              "    <tr>\n",
              "      <th>75%</th>\n",
              "      <td>NaN</td>\n",
              "      <td>24.000000</td>\n",
              "      <td>NaN</td>\n",
              "      <td>NaN</td>\n",
              "      <td>3972.250000</td>\n",
              "      <td>NaN</td>\n",
              "      <td>NaN</td>\n",
              "      <td>4.000000</td>\n",
              "      <td>NaN</td>\n",
              "      <td>NaN</td>\n",
              "      <td>...</td>\n",
              "      <td>NaN</td>\n",
              "      <td>42.000000</td>\n",
              "      <td>NaN</td>\n",
              "      <td>NaN</td>\n",
              "      <td>2.000000</td>\n",
              "      <td>NaN</td>\n",
              "      <td>1.000000</td>\n",
              "      <td>NaN</td>\n",
              "      <td>NaN</td>\n",
              "      <td>2.000000</td>\n",
              "    </tr>\n",
              "    <tr>\n",
              "      <th>max</th>\n",
              "      <td>NaN</td>\n",
              "      <td>72.000000</td>\n",
              "      <td>NaN</td>\n",
              "      <td>NaN</td>\n",
              "      <td>18424.000000</td>\n",
              "      <td>NaN</td>\n",
              "      <td>NaN</td>\n",
              "      <td>4.000000</td>\n",
              "      <td>NaN</td>\n",
              "      <td>NaN</td>\n",
              "      <td>...</td>\n",
              "      <td>NaN</td>\n",
              "      <td>75.000000</td>\n",
              "      <td>NaN</td>\n",
              "      <td>NaN</td>\n",
              "      <td>4.000000</td>\n",
              "      <td>NaN</td>\n",
              "      <td>2.000000</td>\n",
              "      <td>NaN</td>\n",
              "      <td>NaN</td>\n",
              "      <td>2.000000</td>\n",
              "    </tr>\n",
              "  </tbody>\n",
              "</table>\n",
              "<p>11 rows × 21 columns</p>\n",
              "</div>"
            ],
            "text/plain": [
              "       ex_balance    dur_month cred_hist purpose    cred_amont save_bonds_acc  \\\n",
              "count        1000  1000.000000      1000    1000   1000.000000           1000   \n",
              "unique          4          NaN         5      10           NaN              5   \n",
              "top           A14          NaN       A32     A43           NaN            A61   \n",
              "freq          394          NaN       530     280           NaN            603   \n",
              "mean          NaN    20.903000       NaN     NaN   3271.258000            NaN   \n",
              "std           NaN    12.058814       NaN     NaN   2822.736876            NaN   \n",
              "min           NaN     4.000000       NaN     NaN    250.000000            NaN   \n",
              "25%           NaN    12.000000       NaN     NaN   1365.500000            NaN   \n",
              "50%           NaN    18.000000       NaN     NaN   2319.500000            NaN   \n",
              "75%           NaN    24.000000       NaN     NaN   3972.250000            NaN   \n",
              "max           NaN    72.000000       NaN     NaN  18424.000000            NaN   \n",
              "\n",
              "       presnt_emply_since  install_rate_disp_incm perso_status_sex  \\\n",
              "count                1000             1000.000000             1000   \n",
              "unique                  5                     NaN                4   \n",
              "top                   A73                     NaN              A93   \n",
              "freq                  339                     NaN              548   \n",
              "mean                  NaN                2.973000              NaN   \n",
              "std                   NaN                1.118715              NaN   \n",
              "min                   NaN                1.000000              NaN   \n",
              "25%                   NaN                2.000000              NaN   \n",
              "50%                   NaN                3.000000              NaN   \n",
              "75%                   NaN                4.000000              NaN   \n",
              "max                   NaN                4.000000              NaN   \n",
              "\n",
              "       other_debtors  ...  property          age  othr_inst_pln  hous  \\\n",
              "count           1000  ...      1000  1000.000000           1000  1000   \n",
              "unique             3  ...         4          NaN              3     3   \n",
              "top             A101  ...      A123          NaN           A143  A152   \n",
              "freq             907  ...       332          NaN            814   713   \n",
              "mean             NaN  ...       NaN    35.546000            NaN   NaN   \n",
              "std              NaN  ...       NaN    11.375469            NaN   NaN   \n",
              "min              NaN  ...       NaN    19.000000            NaN   NaN   \n",
              "25%              NaN  ...       NaN    27.000000            NaN   NaN   \n",
              "50%              NaN  ...       NaN    33.000000            NaN   NaN   \n",
              "75%              NaN  ...       NaN    42.000000            NaN   NaN   \n",
              "max              NaN  ...       NaN    75.000000            NaN   NaN   \n",
              "\n",
              "       num_ext_cred_this_bnk   job   num_liable   tel fore_wrk         Risk  \n",
              "count            1000.000000  1000  1000.000000  1000     1000  1000.000000  \n",
              "unique                   NaN     4          NaN     2        2          NaN  \n",
              "top                      NaN  A173          NaN  A191     A201          NaN  \n",
              "freq                     NaN   630          NaN   596      963          NaN  \n",
              "mean                1.407000   NaN     1.155000   NaN      NaN     1.300000  \n",
              "std                 0.577654   NaN     0.362086   NaN      NaN     0.458487  \n",
              "min                 1.000000   NaN     1.000000   NaN      NaN     1.000000  \n",
              "25%                 1.000000   NaN     1.000000   NaN      NaN     1.000000  \n",
              "50%                 1.000000   NaN     1.000000   NaN      NaN     1.000000  \n",
              "75%                 2.000000   NaN     1.000000   NaN      NaN     2.000000  \n",
              "max                 4.000000   NaN     2.000000   NaN      NaN     2.000000  \n",
              "\n",
              "[11 rows x 21 columns]"
            ]
          },
          "execution_count": 44,
          "metadata": {},
          "output_type": "execute_result"
        }
      ],
      "source": [
        "# Statistics summary of the dataset\n",
        "GD.describe(include='all')"
      ]
    },
    {
      "cell_type": "code",
      "execution_count": null,
      "metadata": {
        "collapsed": true,
        "id": "h4ct-rSnVU3N",
        "outputId": "1be2da4f-ee85-4c56-f2b6-fe3067bed265"
      },
      "outputs": [
        {
          "data": {
            "text/plain": [
              "ex_balance                  4\n",
              "dur_month                  33\n",
              "cred_hist                   5\n",
              "purpose                    10\n",
              "cred_amont                921\n",
              "save_bonds_acc              5\n",
              "presnt_emply_since          5\n",
              "install_rate_disp_incm      4\n",
              "perso_status_sex            4\n",
              "other_debtors               3\n",
              "presn_residen_sinc          4\n",
              "property                    4\n",
              "age                        53\n",
              "othr_inst_pln               3\n",
              "hous                        3\n",
              "num_ext_cred_this_bnk       4\n",
              "job                         4\n",
              "num_liable                  2\n",
              "tel                         2\n",
              "fore_wrk                    2\n",
              "Risk                        2\n",
              "dtype: int64"
            ]
          },
          "execution_count": 45,
          "metadata": {},
          "output_type": "execute_result"
        }
      ],
      "source": [
        "# If the numer of unique values are < 20 then the variable is likely to be a category otherwise continuous\n",
        "GD.nunique()"
      ]
    },
    {
      "cell_type": "code",
      "execution_count": null,
      "metadata": {
        "id": "D0ja-_8zVU3N",
        "outputId": "2193a3fe-609e-43e3-dcd7-926ce6dda3e1",
        "scrolled": true
      },
      "outputs": [
        {
          "name": "stdout",
          "output_type": "stream",
          "text": [
            "(1000, 21)\n",
            "Class=1, Count=700, Percentage=70.000%\n",
            "Class=2, Count=300, Percentage=30.000%\n"
          ]
        }
      ],
      "source": [
        "# Shape of the dataset\n",
        "print(GD.shape)\n",
        "# The target class distribution\n",
        "target = GD.values[:,-1]\n",
        "counter = Counter(target)\n",
        "for k,v in counter.items():\n",
        "\tper = v / len(target) * 100\n",
        "\tprint('Class=%d, Count=%d, Percentage=%.3f%%' % (k, v, per))"
      ]
    },
    {
      "cell_type": "markdown",
      "metadata": {
        "id": "6XelvGMvVU3N"
      },
      "source": [
        "# A.1 German Credit Data - Exploratory Data Analysis (EDA)"
      ]
    },
    {
      "cell_type": "code",
      "execution_count": null,
      "metadata": {
        "id": "5MwRNUDvVU3N"
      },
      "outputs": [],
      "source": [
        "# Function to plot a bar chart for german credit data features \n",
        "def Plot_Bar_Chart(dataset, features_to_plot):\n",
        "    # Generating multiple subplots\n",
        "    fig, subPlot=plt.subplots(nrows=1, ncols=len(features_to_plot), figsize=(20,5))\n",
        "    fig.suptitle('Bar charts of: '+ str(features_to_plot))\n",
        "\n",
        "    for colName, plotNumber in zip(features_to_plot, range(len(features_to_plot))):\n",
        "        dataset.groupby(colName).size().plot(kind='bar',ax=subPlot[plotNumber])"
      ]
    },
    {
      "cell_type": "markdown",
      "metadata": {
        "id": "8gaLEAApVU3N"
      },
      "source": [
        "# A.1.1 Distribution of the numerical features"
      ]
    },
    {
      "cell_type": "markdown",
      "metadata": {
        "id": "nVNwkX_LVU3O"
      },
      "source": [
        "- <b> A.1.1.1 Age distribution. </b>"
      ]
    },
    {
      "cell_type": "code",
      "execution_count": null,
      "metadata": {
        "collapsed": true,
        "id": "7NaGoTPaVU3O",
        "outputId": "5d8ca583-c9bd-46e5-f859-66ec2de8be1a"
      },
      "outputs": [
        {
          "data": {
            "image/png": "[encoded data removed]",
            "text/plain": [
              "<Figure size 720x360 with 1 Axes>"
            ]
          },
          "metadata": {
            "needs_background": "light"
          },
          "output_type": "display_data"
        }
      ],
      "source": [
        "# Age \n",
        "plt.figure(figsize=(10,5))\n",
        "#plt.xlim(0,2000)\n",
        "plt.xlabel('Age')\n",
        "plt.ylabel('y') # Clear the y axis\n",
        "sns.kdeplot(GD['age'],shade=True)\n",
        "plt.show()"
      ]
    },
    {
      "cell_type": "markdown",
      "metadata": {
        "id": "crkciWVHVU3O"
      },
      "source": [
        "- <b> A.1.1.2 Duration in month distribution</b>"
      ]
    },
    {
      "cell_type": "code",
      "execution_count": null,
      "metadata": {
        "collapsed": true,
        "id": "Tr-6w6sLVU3O",
        "outputId": "cc04427d-4d90-4771-a3b7-67c5d5c0709a"
      },
      "outputs": [
        {
          "data": {
            "image/png": "[encoded data removed]",
            "text/plain": [
              "<Figure size 720x360 with 1 Axes>"
            ]
          },
          "metadata": {
            "needs_background": "light"
          },
          "output_type": "display_data"
        }
      ],
      "source": [
        "# Duration in month  \n",
        "plt.figure(figsize=(10,5))\n",
        "#plt.xlim(0,2000)\n",
        "plt.xlabel('Duration in Month')\n",
        "plt.ylabel('y') # Clear the y axis\n",
        "sns.kdeplot(GD['dur_month'],shade=True)\n",
        "plt.show()"
      ]
    },
    {
      "cell_type": "markdown",
      "metadata": {
        "id": "5eFYpiLKVU3P"
      },
      "source": [
        "- <b> A.1.1.3 Credit Amount distribution. </b>"
      ]
    },
    {
      "cell_type": "code",
      "execution_count": null,
      "metadata": {
        "collapsed": true,
        "id": "hNzGCg-6VU3P",
        "outputId": "66149299-1a51-4110-f015-2cd3c7a00eec"
      },
      "outputs": [
        {
          "data": {
            "image/png": "[encoded data removed]",
            "text/plain": [
              "<Figure size 720x360 with 1 Axes>"
            ]
          },
          "metadata": {
            "needs_background": "light"
          },
          "output_type": "display_data"
        }
      ],
      "source": [
        "# Credit Amount - \n",
        "plt.figure(figsize=(10,5))\n",
        "#plt.xlim(0,2000)\n",
        "plt.xlabel('Credit Amount')\n",
        "plt.ylabel('y') # Clear the y axis\n",
        "sns.kdeplot(GD['cred_amont'],shade=True)\n",
        "plt.show()"
      ]
    },
    {
      "cell_type": "markdown",
      "metadata": {
        "id": "o73tbzTiVU3P"
      },
      "source": [
        "# A.1.2 Distribution of the categorical features"
      ]
    },
    {
      "cell_type": "markdown",
      "metadata": {
        "id": "v-FXM8sHVU3Q"
      },
      "source": [
        " <b> A.1.2.1 Distribution of the target variable (Risk) </b>\n",
        "\n",
        "\n",
        "- (Cost Matrix):  the following are the possible values of the <b> Risk </b>:\n",
        "        Good = 2 which is the state where the loan is a good decision \n",
        "        Bad  = 1 which is the state where the loan is a bad decision \n",
        "        \n",
        "        "
      ]
    },
    {
      "cell_type": "code",
      "execution_count": null,
      "metadata": {
        "id": "Ye2_oX74VU3Q",
        "outputId": "8aca0ed5-92aa-4b39-d390-b284f4b0530f"
      },
      "outputs": [
        {
          "data": {
            "text/plain": [
              "<AxesSubplot:xlabel='Risk'>"
            ]
          },
          "execution_count": 51,
          "metadata": {},
          "output_type": "execute_result"
        },
        {
          "data": {
            "image/png": "[encoded data removed]",
            "text/plain": [
              "<Figure size 576x360 with 1 Axes>"
            ]
          },
          "metadata": {
            "needs_background": "light"
          },
          "output_type": "display_data"
        }
      ],
      "source": [
        "# Bar chart for the target variable \n",
        "GroupedData=GD.groupby('Risk').size()\n",
        "GroupedData.plot(kind='bar', figsize=(8,5))"
      ]
    },
    {
      "cell_type": "markdown",
      "metadata": {
        "id": "JrMC-qFnVU3Q"
      },
      "source": [
        "<b> A.1.2.2 This cell for the count distribution of possible values for the following features:</b>\n",
        "     \n",
        "- (Status of existing checking account):  the following are the possible values of the <b> ex_balance </b>:\n",
        "          A11 :      ... <    0 DM\n",
        "\t      A12 : 0 <= ... <  200 DM\n",
        "\t      A13 :      ... >= 200 DM /salary assignments for at least 1 year\n",
        "          A14 : no checking account\n",
        "\n",
        "\n",
        "\n",
        "- (Credit history): the following are the possibles value of the <b> cred_hist </b>:  \n",
        "\t      A30 : no credits taken/\t\t    all credits paid back duly\n",
        "          A31 : all credits at this bank paid back duly\n",
        "\t      A32 : existing credits paid back duly till now\n",
        "          A33 : delay in paying off in the past\n",
        "\t      A34 : critical account/  other credits existing (not at this bank)\n",
        "\n",
        "\n",
        "- (Purpose): the following are the possibles value of the <b> prop </b>:  \n",
        "          A40 : car (new)\n",
        "\t      A41 : car (used)\n",
        "\t      A42 : furniture/equipment\n",
        "\t      A43 : radio/television\n",
        "\t      A44 : domestic appliances\n",
        "\t      A45 : repairs\n",
        "\t      A46 : education\n",
        "\t      A47 : (vacation - does not exist?)\n",
        "\t      A48 : retraining\n",
        "\t      A49 : business\n",
        "\t      A410 : others\n",
        "    \n",
        "- (Savings account/bonds): the following are the possibles value of the <b> save_bonds_acc </b>:  \n",
        "          A61 :          ... <  100 DM\n",
        "          A62 :   100 <= ... <  500 DM\n",
        "          A63 :   500 <= ... < 1000 DM\n",
        "          A64 :          .. >= 1000 DM\n",
        "          A65 :   unknown/ no savings account\n",
        "    \n",
        "   <b> Note:</b> In the same sequnce please, read the bars below from <b>Left</b> to <b> Right </b> \n"
      ]
    },
    {
      "cell_type": "code",
      "execution_count": null,
      "metadata": {
        "collapsed": true,
        "id": "sd8_J63LVU3Q",
        "outputId": "0616e378-d0e5-4342-f820-239a2a30a05a"
      },
      "outputs": [
        {
          "data": {
            "image/png": "[encoded data removed]",
            "text/plain": [
              "<Figure size 1440x360 with 4 Axes>"
            ]
          },
          "metadata": {
            "needs_background": "light"
          },
          "output_type": "display_data"
        }
      ],
      "source": [
        "Plot_Bar_Chart(dataset=GD,  features_to_plot=[\"ex_balance\",\"cred_hist\",\"purpose\",\"save_bonds_acc\",])"
      ]
    },
    {
      "cell_type": "markdown",
      "metadata": {
        "id": "TBynQni_VU3Q"
      },
      "source": [
        "<b> A.1.2.3 This cell for the count distribution of possible values for the following features</b>\n",
        "\n",
        "\n",
        "\n",
        "- (Present employment since): the following are the possibles value of the <b> presnt_emply_since </b>:  \n",
        "                A71 : unemployed\n",
        "                A72 :       ... < 1 year\n",
        "                A73 : 1  <= ... < 4 years  \n",
        "                A74 : 4  <= ... < 7 years\n",
        "                A75 :       .. >= 7 years\n",
        "\n",
        "\n",
        "\n",
        "- (Installment rate in percentage of disposable income): the following are the possibles value of the <b> install_rate_disp_incm </b>:  \n",
        "                Numerical\n",
        "\n",
        "\n",
        "\n",
        "- (Personal status and sex): the following are the possibles value of the <b> perso_status_sex </b>: \n",
        "                A91 : male   : divorced/separated\n",
        "                A92 : female : divorced/separated/married\n",
        "                A93 : male   : single\n",
        "                A94 : male   : married/widowed\n",
        "                A95 : female : single\n",
        "\n",
        "   \n",
        "\n",
        "- (Other debtors / guarantors): the following are the possibles value of the <b> other_debtors </b>: \n",
        "                A101 : none\n",
        "                A102 : co-applicant\n",
        "                A103 : guarantor\n",
        "\n",
        "    \n",
        "    \n",
        "    \n",
        "   <b> Note:</b> In the same sequnce please, read the bars below from <b>Left</b> to <b> Right </b> \n"
      ]
    },
    {
      "cell_type": "code",
      "execution_count": null,
      "metadata": {
        "collapsed": true,
        "id": "pb3Tn4DSVU3R",
        "outputId": "fd8f98a6-045a-4d45-f351-ce3ef3338b63"
      },
      "outputs": [
        {
          "data": {
            "image/png": "[encoded data removed]",
            "text/plain": [
              "<Figure size 1440x360 with 4 Axes>"
            ]
          },
          "metadata": {
            "needs_background": "light"
          },
          "output_type": "display_data"
        }
      ],
      "source": [
        "Plot_Bar_Chart(dataset=GD,  features_to_plot=[\"presnt_emply_since\",\"install_rate_disp_incm\",\"perso_status_sex\",\"other_debtors\",])"
      ]
    },
    {
      "cell_type": "markdown",
      "metadata": {
        "id": "JO1893-EVU3R"
      },
      "source": [
        "<b> A.1.2.4 This cell for the count distribution of possible values for the following features</b>\n",
        "     \n",
        "\n",
        "\n",
        "\n",
        "- (Present residence since):  the following are the possible values of the <b> presn_residen_sinc </b>:\n",
        "                Numerical\n",
        "\n",
        "\n",
        "- (Property): the following are the possibles value of the <b> property </b>:  \n",
        "                A121 : real estate\n",
        "                A122 : if not A121 : building society savings agreement/life insurance\n",
        "                A123 : if not A121/A122 : car or other, not in attribute 6\n",
        "                A124 : unknown / no property\n",
        "\n",
        "\n",
        "\n",
        "- (Other installment plans): the following are the possibles value of the <b> othr_inst_pln </b>: \n",
        "               A141 : bank\n",
        "               A142 : stores\n",
        "\t           A143 : none\n",
        "\n",
        "   \n",
        "\n",
        "- (Housing): the following are the possibles value of the <b> hous </b>: \n",
        "               A151 : rent\n",
        "               A152 : own\n",
        "               A153 : for free\n",
        "\n",
        "    \n",
        "   <b> Note:</b> In the same sequnce please, read the bars below from <b>Left</b> to <b> Right </b> \n"
      ]
    },
    {
      "cell_type": "code",
      "execution_count": null,
      "metadata": {
        "collapsed": true,
        "id": "W_wRLVyUVU3R",
        "outputId": "bb50a0f9-b909-4867-d0e9-17bba8a4554a"
      },
      "outputs": [
        {
          "data": {
            "image/png": "[encoded data removed]",
            "text/plain": [
              "<Figure size 1440x360 with 4 Axes>"
            ]
          },
          "metadata": {
            "needs_background": "light"
          },
          "output_type": "display_data"
        }
      ],
      "source": [
        "Plot_Bar_Chart(dataset=GD,  features_to_plot=[\"presn_residen_sinc\",\"property\",\"othr_inst_pln\",\"hous\",])"
      ]
    },
    {
      "cell_type": "markdown",
      "metadata": {
        "id": "eQOsfIzfVU3R"
      },
      "source": [
        "<b> A.1.2.5 This cell for the count distribution of possible values for the following features</b>\n",
        "\n",
        "\n",
        "\n",
        "- <b>(Number of existing credits at this bank):</b> the following are the possible value of the <b> num_ext_cred_this_bnk   </b>: \n",
        "              Numerical \n",
        "\n",
        "\n",
        "\n",
        "- <b>(Job):</b> the following are the possibles value of the <b> job </b>:  \n",
        "              A171 : unemployed/ unskilled  - non-resident\n",
        "              A172 : unskilled - resident\n",
        "              A173 : skilled employee / official\n",
        "              A174 : management/ self-employed/highly qualified employee/ officer\n",
        "\n",
        "\n",
        "- <b>(Number of people being liable to provide maintenance for):</b> the following are the possible value of the <b> num_liable              </b>: \n",
        "              Numerical\n",
        "   \n",
        "\n",
        "- <b>(Foreign worker):</b> the following are the possibles value of the <b> fore_wrk </b>: \n",
        "             A201 : yes\n",
        "             A202 : no\n",
        "\n",
        "    \n",
        "    \n",
        "    \n",
        "   <b> Note:</b> In the same sequnce please, read the bars below from <b>Left</b> to <b> Right </b> \n"
      ]
    },
    {
      "cell_type": "code",
      "execution_count": null,
      "metadata": {
        "collapsed": true,
        "id": "yKBIN2owVU3R",
        "outputId": "cdb66a33-af73-4a77-db26-0aa558ce9cb4"
      },
      "outputs": [
        {
          "data": {
            "image/png": "[encoded data removed]",
            "text/plain": [
              "<Figure size 1440x360 with 4 Axes>"
            ]
          },
          "metadata": {
            "needs_background": "light"
          },
          "output_type": "display_data"
        }
      ],
      "source": [
        "Plot_Bar_Chart(dataset=GD,  features_to_plot=[\"num_ext_cred_this_bnk\",\"job\",\"num_liable\",\"fore_wrk\",])"
      ]
    },
    {
      "cell_type": "markdown",
      "metadata": {
        "id": "0kzvxUPOVU3S"
      },
      "source": [
        "# A.2 Features selection for German Credit dataset"
      ]
    },
    {
      "cell_type": "markdown",
      "metadata": {
        "id": "okMXBCDlVU3S"
      },
      "source": [
        "In this section, I will do two steps to select appropriate features, by finding the correlation between the variables according to the p-value. \n",
        "\n",
        "<b> Step one: </b>\n",
        "I'm trying to find the correlation between the two variables. The first variable is categorical (Risk) and the second variable is numerical continuous variables. \n",
        "(Age, Duration in month, and Credit amount) VS (Risk)\n",
        "\n",
        "To do so, I will use ANOVA test to calculate the p-value and find the correlation between the above variables.  and exploring the relationship in the box plot.\n",
        "\n",
        "\n",
        "<b> Step two: </b>\n",
        "I'm trying to find the correlation between the categorical variables. The first variable is categorical (Risk) and the second variable is also a categorical variable. \n",
        "(Existing Balance, Credit history, Purpose, Savings account/bonds, Present employment since, Installment rate in percentage of disposable income, Personal status and sex, Other debtors/guarantors, Present residence since, Property, Other instalment plans, Housing, Number of existing credits at this bank, Job, Number of people being liable to provide maintenance for, Telephone, foreign worker)   VS (Risk) \n",
        "\n",
        "To do so, I will use the Chi-square test to calculate the p-value and find the correlation between the above variables.  and exploring the relationship in the box plot."
      ]
    },
    {
      "cell_type": "markdown",
      "metadata": {
        "id": "NkW-DGQXVU3S"
      },
      "source": [
        "<b> A.2.1 Step (1) ANOVA Test  & Box plot:"
      ]
    },
    {
      "cell_type": "code",
      "execution_count": null,
      "metadata": {
        "collapsed": true,
        "id": "yTNj-FakVU3S",
        "outputId": "89f4e1a0-7d91-426d-b479-5f8bab7b60e9"
      },
      "outputs": [
        {
          "name": "stdout",
          "output_type": "stream",
          "text": [
            "####################################### ANOVA Results ################################################# \n",
            "\n",
            "age is correlated with Risk | P-Value: 0.003925339398278295\n",
            "cred_amont is correlated with Risk | P-Value: 8.797572373533373e-07\n",
            "dur_month is correlated with Risk | P-Value: 6.488049877187189e-12\n",
            "\n",
            "\n",
            "########################################## Box plot ################################################# \n",
            "\n"
          ]
        },
        {
          "data": {
            "image/png": "[encoded data removed]",
            "text/plain": [
              "<Figure size 1296x360 with 3 Axes>"
            ]
          },
          "metadata": {
            "needs_background": "light"
          },
          "output_type": "display_data"
        }
      ],
      "source": [
        "# Defining a function to find the statistical relationship with all the categorical variables\n",
        "def FunctionAnova(dataset, Risk, numerical_features):\n",
        "   \n",
        "    # Creating an empty list of final selected predictors\n",
        "    SelectedPredictors=[]\n",
        "    \n",
        "    print('####################################### ANOVA Results ################################################# \\n')\n",
        "    for predictor in numerical_features:\n",
        "        CategoryGroupLists=dataset.groupby(Risk)[predictor].apply(list)\n",
        "        AnovaResults = f_oneway(*CategoryGroupLists)\n",
        "        \n",
        "        # If the ANOVA P-Value is <0.05, that means we reject H0\n",
        "        if (AnovaResults[1] < 0.05):\n",
        "            print(predictor, 'is correlated with', Risk, '| P-Value:', AnovaResults[1])\n",
        "            SelectedPredictors.append(predictor)\n",
        "        else:\n",
        "            print(predictor, 'is NOT correlated with', Risk, '| P-Value:', AnovaResults[1])\n",
        "    \n",
        "    return(SelectedPredictors)\n",
        "\n",
        "# Calling the function to check which categorical variables are correlated with target\n",
        "numerical_featuresss=['age', 'cred_amont','dur_month']\n",
        "FunctionAnova(dataset=GD, Risk='Risk', numerical_features=numerical_featuresss)\n",
        "\n",
        "# Box plots for Categorical Target Variable \"GoodCredit\" and continuous predictors\n",
        "ContinuousColsList=['age','cred_amont', 'dur_month']\n",
        "\n",
        "fig, PlotCanvas=plt.subplots(nrows=1, ncols=len(ContinuousColsList), figsize=(18,5))\n",
        "\n",
        "print('\\n')\n",
        "print('########################################## Box plot ################################################# \\n')\n",
        " \n",
        "# Creating box plots for each continuous predictor against the Target Variable \"GoodCredit\"\n",
        "for PredictorCol , i in zip(ContinuousColsList, range(len(ContinuousColsList))):\n",
        "    GD.boxplot(column=PredictorCol, by='Risk', figsize=(5,5), vert=True, ax=PlotCanvas[i])"
      ]
    },
    {
      "cell_type": "markdown",
      "metadata": {
        "id": "IcFmxWOaVU3S"
      },
      "source": [
        "<b> A.2.2 Step (2) Chi-square test </b>"
      ]
    },
    {
      "cell_type": "code",
      "execution_count": null,
      "metadata": {
        "id": "Q0wyc_SSVU3S"
      },
      "outputs": [],
      "source": [
        "# Writing a function to find the correlation of all categorical variables with the Target variable\n",
        "def FunctionChisq(dataset, Risk, categorical_features):\n",
        "    \n",
        "    \n",
        "    # Creating an empty list of final selected predictors\n",
        "    SelectedPredictors=[]\n",
        "\n",
        "    for predictor in categorical_features:\n",
        "        CrossTabResult=pd.crosstab(index=dataset[Risk], columns=dataset[predictor])\n",
        "        ChiSqResult = chi2_contingency(CrossTabResult)\n",
        "        \n",
        "        # If the ChiSq P-Value is <0.05, that means we reject H0\n",
        "        if (ChiSqResult[1] < 0.05):\n",
        "            print(predictor, 'is correlated with', Risk, '| P-Value:', ChiSqResult[1])\n",
        "            SelectedPredictors.append(predictor)\n",
        "        else:\n",
        "            print(predictor, 'is NOT correlated with', Risk, '| P-Value:', ChiSqResult[1])        \n",
        "            \n",
        "    return(SelectedPredictors)"
      ]
    },
    {
      "cell_type": "code",
      "execution_count": null,
      "metadata": {
        "collapsed": true,
        "id": "TdILHnLuVU3T",
        "outputId": "912ce319-408b-4631-8c1a-ce3f9965de40"
      },
      "outputs": [
        {
          "name": "stdout",
          "output_type": "stream",
          "text": [
            "ex_balance is correlated with Risk | P-Value: 1.2189020722893755e-26\n",
            "cred_hist is correlated with Risk | P-Value: 1.2791872956751013e-12\n",
            "purpose is correlated with Risk | P-Value: 0.00011574910079691586\n",
            "save_bonds_acc is correlated with Risk | P-Value: 2.7612142385682596e-07\n",
            "presnt_emply_since is correlated with Risk | P-Value: 0.001045452349140254\n",
            "install_rate_disp_incm is NOT correlated with Risk | P-Value: 0.1400333122128481\n",
            "perso_status_sex is correlated with Risk | P-Value: 0.02223800546926877\n",
            "other_debtors is correlated with Risk | P-Value: 0.036055954027247226\n",
            "presn_residen_sinc is NOT correlated with Risk | P-Value: 0.8615521320413175\n",
            "property is correlated with Risk | P-Value: 2.8584415733250017e-05\n",
            "othr_inst_pln is correlated with Risk | P-Value: 0.0016293178186473534\n",
            "hous is correlated with Risk | P-Value: 0.00011167465374597684\n",
            "num_ext_cred_this_bnk is NOT correlated with Risk | P-Value: 0.4451440800083001\n",
            "job is NOT correlated with Risk | P-Value: 0.5965815918843431\n",
            "num_liable is NOT correlated with Risk | P-Value: 1.0\n",
            "tel is NOT correlated with Risk | P-Value: 0.27887615430357426\n",
            "fore_wrk is correlated with Risk | P-Value: 0.015830754902852885\n"
          ]
        },
        {
          "data": {
            "text/plain": [
              "['ex_balance',\n",
              " 'cred_hist',\n",
              " 'purpose',\n",
              " 'save_bonds_acc',\n",
              " 'presnt_emply_since',\n",
              " 'perso_status_sex',\n",
              " 'other_debtors',\n",
              " 'property',\n",
              " 'othr_inst_pln',\n",
              " 'hous',\n",
              " 'fore_wrk']"
            ]
          },
          "execution_count": 58,
          "metadata": {},
          "output_type": "execute_result"
        }
      ],
      "source": [
        "categorical_featuresss=['ex_balance', 'cred_hist', 'purpose','save_bonds_acc','presnt_emply_since',\n",
        "                     'install_rate_disp_incm', 'perso_status_sex', 'other_debtors','presn_residen_sinc', 'property',\n",
        "                     'othr_inst_pln', 'hous', 'num_ext_cred_this_bnk', 'job', 'num_liable', 'tel', 'fore_wrk']\n",
        "\n",
        "# Calling the function\n",
        "FunctionChisq(dataset=GD, Risk='Risk',categorical_features= categorical_featuresss)"
      ]
    },
    {
      "cell_type": "markdown",
      "metadata": {
        "id": "Qy9ej-DfVU3T"
      },
      "source": [
        "<b> A.2.3 Additional exploration by correlation matrix </b>\n"
      ]
    },
    {
      "cell_type": "code",
      "execution_count": null,
      "metadata": {
        "collapsed": true,
        "id": "r9gSQHlFVU3T",
        "outputId": "8aa0459f-994d-46c3-a8a6-414fba9ef36f"
      },
      "outputs": [
        {
          "data": {
            "image/png": "[encoded data removed]",
            "text/plain": [
              "<Figure size 432x288 with 2 Axes>"
            ]
          },
          "metadata": {
            "needs_background": "light"
          },
          "output_type": "display_data"
        }
      ],
      "source": [
        "# Correlation Matrix\n",
        "corr = GD.corr()\n",
        "ax = sns.heatmap(\n",
        "    corr, \n",
        "    vmin=-1, vmax=1, center=0,\n",
        "    cmap=sns.diverging_palette(20, 220, n=1000),\n",
        "    square=True\n",
        ")\n",
        "ax.set_xticklabels(\n",
        "    ax.get_xticklabels(),\n",
        "    rotation=45,\n",
        "    horizontalalignment='right'\n",
        ");"
      ]
    },
    {
      "cell_type": "markdown",
      "metadata": {
        "id": "ZnWRSkB1VU3T"
      },
      "source": [
        "Since machine learning deals with correlated variables (features) to the target class, then,the correlated (features) variables that I selected to use for model predication are the following: \n",
        "- Status of existing checking account\n",
        "- Credit history\n",
        "- Purpose\n",
        "- Credit amount\n",
        "- Savings account/bonds\n",
        "- Present employment since\n",
        "- Personal status and sex\n",
        "- Other debtors / guarantors\n",
        "- Property\n",
        "- Other installment plans\n",
        "- Housing\n",
        "- Foreign worker\n"
      ]
    },
    {
      "cell_type": "markdown",
      "metadata": {
        "id": "u9xTEvoIVU3T"
      },
      "source": [
        "# A. 3 Data pre-processing for German Credit dataset"
      ]
    },
    {
      "cell_type": "code",
      "execution_count": null,
      "metadata": {
        "collapsed": true,
        "id": "F_G1OYM3VU3T",
        "outputId": "273f44a4-5ac0-4bd7-83fc-ba46de289d0a"
      },
      "outputs": [
        {
          "data": {
            "text/html": [
              "<div>\n",
              "<style scoped>\n",
              "    .dataframe tbody tr th:only-of-type {\n",
              "        vertical-align: middle;\n",
              "    }\n",
              "\n",
              "    .dataframe tbody tr th {\n",
              "        vertical-align: top;\n",
              "    }\n",
              "\n",
              "    .dataframe thead th {\n",
              "        text-align: right;\n",
              "    }\n",
              "</style>\n",
              "<table border=\"1\" class=\"dataframe\">\n",
              "  <thead>\n",
              "    <tr style=\"text-align: right;\">\n",
              "      <th></th>\n",
              "      <th>ex_balance</th>\n",
              "      <th>cred_hist</th>\n",
              "      <th>purpose</th>\n",
              "      <th>save_bonds_acc</th>\n",
              "      <th>presnt_emply_since</th>\n",
              "      <th>perso_status_sex</th>\n",
              "      <th>other_debtors</th>\n",
              "      <th>property</th>\n",
              "      <th>othr_inst_pln</th>\n",
              "      <th>hous</th>\n",
              "      <th>fore_wrk</th>\n",
              "    </tr>\n",
              "  </thead>\n",
              "  <tbody>\n",
              "    <tr>\n",
              "      <th>0</th>\n",
              "      <td>A11</td>\n",
              "      <td>A34</td>\n",
              "      <td>A43</td>\n",
              "      <td>A65</td>\n",
              "      <td>A75</td>\n",
              "      <td>A93</td>\n",
              "      <td>A101</td>\n",
              "      <td>A121</td>\n",
              "      <td>A143</td>\n",
              "      <td>A152</td>\n",
              "      <td>A201</td>\n",
              "    </tr>\n",
              "    <tr>\n",
              "      <th>1</th>\n",
              "      <td>A12</td>\n",
              "      <td>A32</td>\n",
              "      <td>A43</td>\n",
              "      <td>A61</td>\n",
              "      <td>A73</td>\n",
              "      <td>A92</td>\n",
              "      <td>A101</td>\n",
              "      <td>A121</td>\n",
              "      <td>A143</td>\n",
              "      <td>A152</td>\n",
              "      <td>A201</td>\n",
              "    </tr>\n",
              "    <tr>\n",
              "      <th>2</th>\n",
              "      <td>A14</td>\n",
              "      <td>A34</td>\n",
              "      <td>A46</td>\n",
              "      <td>A61</td>\n",
              "      <td>A74</td>\n",
              "      <td>A93</td>\n",
              "      <td>A101</td>\n",
              "      <td>A121</td>\n",
              "      <td>A143</td>\n",
              "      <td>A152</td>\n",
              "      <td>A201</td>\n",
              "    </tr>\n",
              "    <tr>\n",
              "      <th>3</th>\n",
              "      <td>A11</td>\n",
              "      <td>A32</td>\n",
              "      <td>A42</td>\n",
              "      <td>A61</td>\n",
              "      <td>A74</td>\n",
              "      <td>A93</td>\n",
              "      <td>A103</td>\n",
              "      <td>A122</td>\n",
              "      <td>A143</td>\n",
              "      <td>A153</td>\n",
              "      <td>A201</td>\n",
              "    </tr>\n",
              "    <tr>\n",
              "      <th>4</th>\n",
              "      <td>A11</td>\n",
              "      <td>A33</td>\n",
              "      <td>A40</td>\n",
              "      <td>A61</td>\n",
              "      <td>A73</td>\n",
              "      <td>A93</td>\n",
              "      <td>A101</td>\n",
              "      <td>A124</td>\n",
              "      <td>A143</td>\n",
              "      <td>A153</td>\n",
              "      <td>A201</td>\n",
              "    </tr>\n",
              "  </tbody>\n",
              "</table>\n",
              "</div>"
            ],
            "text/plain": [
              "  ex_balance cred_hist purpose save_bonds_acc presnt_emply_since  \\\n",
              "0        A11       A34     A43            A65                A75   \n",
              "1        A12       A32     A43            A61                A73   \n",
              "2        A14       A34     A46            A61                A74   \n",
              "3        A11       A32     A42            A61                A74   \n",
              "4        A11       A33     A40            A61                A73   \n",
              "\n",
              "  perso_status_sex other_debtors property othr_inst_pln  hous fore_wrk  \n",
              "0              A93          A101     A121          A143  A152     A201  \n",
              "1              A92          A101     A121          A143  A152     A201  \n",
              "2              A93          A101     A121          A143  A152     A201  \n",
              "3              A93          A103     A122          A143  A153     A201  \n",
              "4              A93          A101     A124          A143  A153     A201  "
            ]
          },
          "execution_count": 61,
          "metadata": {},
          "output_type": "execute_result"
        }
      ],
      "source": [
        "Selected_Features =['ex_balance',\n",
        " 'cred_hist',\n",
        " 'purpose',\n",
        " 'save_bonds_acc',\n",
        " 'presnt_emply_since',\n",
        " 'perso_status_sex',\n",
        " 'other_debtors',\n",
        " 'property',\n",
        " 'othr_inst_pln',\n",
        " 'hous',\n",
        " 'fore_wrk']\n",
        "\n",
        "# Selecting final features for ML model \n",
        "GD_for_ML_GCD=GD[Selected_Features]\n",
        "GD_for_ML_GCD.head()"
      ]
    },
    {
      "cell_type": "code",
      "execution_count": null,
      "metadata": {
        "id": "aqmJKcJeVU3U"
      },
      "outputs": [],
      "source": [
        "# Saving this final data for reference during deployment\n",
        "GD_for_ML_GCD.to_pickle('GD_for_ML_GCD.pkl')"
      ]
    },
    {
      "cell_type": "code",
      "execution_count": null,
      "metadata": {
        "id": "FkmzHwBLVU3U",
        "outputId": "7cce563b-07e4-44e8-aa44-a52cf0cddc09"
      },
      "outputs": [
        {
          "name": "stderr",
          "output_type": "stream",
          "text": [
            "C:\\Users\\44784\\anaconda3\\lib\\site-packages\\pandas\\core\\series.py:4563: SettingWithCopyWarning: \n",
            "A value is trying to be set on a copy of a slice from a DataFrame\n",
            "\n",
            "See the caveats in the documentation: https://pandas.pydata.org/pandas-docs/stable/user_guide/indexing.html#returning-a-view-versus-a-copy\n",
            "  return super().replace(\n"
          ]
        }
      ],
      "source": [
        "# Treating the Ordinal variable first\n",
        "GD_for_ML_GCD['presnt_emply_since'].replace({'A71':1, 'A72':2,'A73':3, 'A74':4,'A75':5 }, inplace=True)"
      ]
    },
    {
      "cell_type": "code",
      "execution_count": null,
      "metadata": {
        "collapsed": true,
        "id": "vnGY0boiVU3U",
        "outputId": "7182f988-bc54-4180-ca96-7e26a41dcb13"
      },
      "outputs": [
        {
          "data": {
            "text/html": [
              "<div>\n",
              "<style scoped>\n",
              "    .dataframe tbody tr th:only-of-type {\n",
              "        vertical-align: middle;\n",
              "    }\n",
              "\n",
              "    .dataframe tbody tr th {\n",
              "        vertical-align: top;\n",
              "    }\n",
              "\n",
              "    .dataframe thead th {\n",
              "        text-align: right;\n",
              "    }\n",
              "</style>\n",
              "<table border=\"1\" class=\"dataframe\">\n",
              "  <thead>\n",
              "    <tr style=\"text-align: right;\">\n",
              "      <th></th>\n",
              "      <th>ex_balance</th>\n",
              "      <th>cred_hist</th>\n",
              "      <th>purpose</th>\n",
              "      <th>save_bonds_acc</th>\n",
              "      <th>presnt_emply_since</th>\n",
              "      <th>perso_status_sex</th>\n",
              "      <th>other_debtors</th>\n",
              "      <th>property</th>\n",
              "      <th>othr_inst_pln</th>\n",
              "      <th>hous</th>\n",
              "      <th>fore_wrk</th>\n",
              "    </tr>\n",
              "  </thead>\n",
              "  <tbody>\n",
              "    <tr>\n",
              "      <th>0</th>\n",
              "      <td>A11</td>\n",
              "      <td>A34</td>\n",
              "      <td>A43</td>\n",
              "      <td>A65</td>\n",
              "      <td>5</td>\n",
              "      <td>A93</td>\n",
              "      <td>A101</td>\n",
              "      <td>A121</td>\n",
              "      <td>A143</td>\n",
              "      <td>A152</td>\n",
              "      <td>1</td>\n",
              "    </tr>\n",
              "    <tr>\n",
              "      <th>1</th>\n",
              "      <td>A12</td>\n",
              "      <td>A32</td>\n",
              "      <td>A43</td>\n",
              "      <td>A61</td>\n",
              "      <td>3</td>\n",
              "      <td>A92</td>\n",
              "      <td>A101</td>\n",
              "      <td>A121</td>\n",
              "      <td>A143</td>\n",
              "      <td>A152</td>\n",
              "      <td>1</td>\n",
              "    </tr>\n",
              "    <tr>\n",
              "      <th>2</th>\n",
              "      <td>A14</td>\n",
              "      <td>A34</td>\n",
              "      <td>A46</td>\n",
              "      <td>A61</td>\n",
              "      <td>4</td>\n",
              "      <td>A93</td>\n",
              "      <td>A101</td>\n",
              "      <td>A121</td>\n",
              "      <td>A143</td>\n",
              "      <td>A152</td>\n",
              "      <td>1</td>\n",
              "    </tr>\n",
              "    <tr>\n",
              "      <th>3</th>\n",
              "      <td>A11</td>\n",
              "      <td>A32</td>\n",
              "      <td>A42</td>\n",
              "      <td>A61</td>\n",
              "      <td>4</td>\n",
              "      <td>A93</td>\n",
              "      <td>A103</td>\n",
              "      <td>A122</td>\n",
              "      <td>A143</td>\n",
              "      <td>A153</td>\n",
              "      <td>1</td>\n",
              "    </tr>\n",
              "    <tr>\n",
              "      <th>4</th>\n",
              "      <td>A11</td>\n",
              "      <td>A33</td>\n",
              "      <td>A40</td>\n",
              "      <td>A61</td>\n",
              "      <td>3</td>\n",
              "      <td>A93</td>\n",
              "      <td>A101</td>\n",
              "      <td>A124</td>\n",
              "      <td>A143</td>\n",
              "      <td>A153</td>\n",
              "      <td>1</td>\n",
              "    </tr>\n",
              "  </tbody>\n",
              "</table>\n",
              "</div>"
            ],
            "text/plain": [
              "  ex_balance cred_hist purpose save_bonds_acc  presnt_emply_since  \\\n",
              "0        A11       A34     A43            A65                   5   \n",
              "1        A12       A32     A43            A61                   3   \n",
              "2        A14       A34     A46            A61                   4   \n",
              "3        A11       A32     A42            A61                   4   \n",
              "4        A11       A33     A40            A61                   3   \n",
              "\n",
              "  perso_status_sex other_debtors property othr_inst_pln  hous  fore_wrk  \n",
              "0              A93          A101     A121          A143  A152         1  \n",
              "1              A92          A101     A121          A143  A152         1  \n",
              "2              A93          A101     A121          A143  A152         1  \n",
              "3              A93          A103     A122          A143  A153         1  \n",
              "4              A93          A101     A124          A143  A153         1  "
            ]
          },
          "execution_count": 65,
          "metadata": {},
          "output_type": "execute_result"
        }
      ],
      "source": [
        "# Treating the binary nominal variable\n",
        "GD_for_ML_GCD['fore_wrk'].replace({'A201':1, 'A202':0}, inplace=True)\n",
        "\n",
        "# Looking at data after nominal treatment\n",
        "GD_for_ML_GCD.head()"
      ]
    },
    {
      "cell_type": "code",
      "execution_count": null,
      "metadata": {
        "collapsed": true,
        "id": "rhH2XdjQVU3U",
        "outputId": "e53256f6-bff0-43fc-99f6-e4c0303bbd1e"
      },
      "outputs": [
        {
          "data": {
            "text/html": [
              "<div>\n",
              "<style scoped>\n",
              "    .dataframe tbody tr th:only-of-type {\n",
              "        vertical-align: middle;\n",
              "    }\n",
              "\n",
              "    .dataframe tbody tr th {\n",
              "        vertical-align: top;\n",
              "    }\n",
              "\n",
              "    .dataframe thead th {\n",
              "        text-align: right;\n",
              "    }\n",
              "</style>\n",
              "<table border=\"1\" class=\"dataframe\">\n",
              "  <thead>\n",
              "    <tr style=\"text-align: right;\">\n",
              "      <th></th>\n",
              "      <th>presnt_emply_since</th>\n",
              "      <th>fore_wrk</th>\n",
              "      <th>ex_balance_A11</th>\n",
              "      <th>ex_balance_A12</th>\n",
              "      <th>ex_balance_A13</th>\n",
              "      <th>ex_balance_A14</th>\n",
              "      <th>cred_hist_A30</th>\n",
              "      <th>cred_hist_A31</th>\n",
              "      <th>cred_hist_A32</th>\n",
              "      <th>cred_hist_A33</th>\n",
              "      <th>...</th>\n",
              "      <th>property_A122</th>\n",
              "      <th>property_A123</th>\n",
              "      <th>property_A124</th>\n",
              "      <th>othr_inst_pln_A141</th>\n",
              "      <th>othr_inst_pln_A142</th>\n",
              "      <th>othr_inst_pln_A143</th>\n",
              "      <th>hous_A151</th>\n",
              "      <th>hous_A152</th>\n",
              "      <th>hous_A153</th>\n",
              "      <th>Risk</th>\n",
              "    </tr>\n",
              "  </thead>\n",
              "  <tbody>\n",
              "    <tr>\n",
              "      <th>0</th>\n",
              "      <td>5</td>\n",
              "      <td>1</td>\n",
              "      <td>1</td>\n",
              "      <td>0</td>\n",
              "      <td>0</td>\n",
              "      <td>0</td>\n",
              "      <td>0</td>\n",
              "      <td>0</td>\n",
              "      <td>0</td>\n",
              "      <td>0</td>\n",
              "      <td>...</td>\n",
              "      <td>0</td>\n",
              "      <td>0</td>\n",
              "      <td>0</td>\n",
              "      <td>0</td>\n",
              "      <td>0</td>\n",
              "      <td>1</td>\n",
              "      <td>0</td>\n",
              "      <td>1</td>\n",
              "      <td>0</td>\n",
              "      <td>1</td>\n",
              "    </tr>\n",
              "    <tr>\n",
              "      <th>1</th>\n",
              "      <td>3</td>\n",
              "      <td>1</td>\n",
              "      <td>0</td>\n",
              "      <td>1</td>\n",
              "      <td>0</td>\n",
              "      <td>0</td>\n",
              "      <td>0</td>\n",
              "      <td>0</td>\n",
              "      <td>1</td>\n",
              "      <td>0</td>\n",
              "      <td>...</td>\n",
              "      <td>0</td>\n",
              "      <td>0</td>\n",
              "      <td>0</td>\n",
              "      <td>0</td>\n",
              "      <td>0</td>\n",
              "      <td>1</td>\n",
              "      <td>0</td>\n",
              "      <td>1</td>\n",
              "      <td>0</td>\n",
              "      <td>2</td>\n",
              "    </tr>\n",
              "    <tr>\n",
              "      <th>2</th>\n",
              "      <td>4</td>\n",
              "      <td>1</td>\n",
              "      <td>0</td>\n",
              "      <td>0</td>\n",
              "      <td>0</td>\n",
              "      <td>1</td>\n",
              "      <td>0</td>\n",
              "      <td>0</td>\n",
              "      <td>0</td>\n",
              "      <td>0</td>\n",
              "      <td>...</td>\n",
              "      <td>0</td>\n",
              "      <td>0</td>\n",
              "      <td>0</td>\n",
              "      <td>0</td>\n",
              "      <td>0</td>\n",
              "      <td>1</td>\n",
              "      <td>0</td>\n",
              "      <td>1</td>\n",
              "      <td>0</td>\n",
              "      <td>1</td>\n",
              "    </tr>\n",
              "    <tr>\n",
              "      <th>3</th>\n",
              "      <td>4</td>\n",
              "      <td>1</td>\n",
              "      <td>1</td>\n",
              "      <td>0</td>\n",
              "      <td>0</td>\n",
              "      <td>0</td>\n",
              "      <td>0</td>\n",
              "      <td>0</td>\n",
              "      <td>1</td>\n",
              "      <td>0</td>\n",
              "      <td>...</td>\n",
              "      <td>1</td>\n",
              "      <td>0</td>\n",
              "      <td>0</td>\n",
              "      <td>0</td>\n",
              "      <td>0</td>\n",
              "      <td>1</td>\n",
              "      <td>0</td>\n",
              "      <td>0</td>\n",
              "      <td>1</td>\n",
              "      <td>1</td>\n",
              "    </tr>\n",
              "    <tr>\n",
              "      <th>4</th>\n",
              "      <td>3</td>\n",
              "      <td>1</td>\n",
              "      <td>1</td>\n",
              "      <td>0</td>\n",
              "      <td>0</td>\n",
              "      <td>0</td>\n",
              "      <td>0</td>\n",
              "      <td>0</td>\n",
              "      <td>0</td>\n",
              "      <td>1</td>\n",
              "      <td>...</td>\n",
              "      <td>0</td>\n",
              "      <td>0</td>\n",
              "      <td>1</td>\n",
              "      <td>0</td>\n",
              "      <td>0</td>\n",
              "      <td>1</td>\n",
              "      <td>0</td>\n",
              "      <td>0</td>\n",
              "      <td>1</td>\n",
              "      <td>2</td>\n",
              "    </tr>\n",
              "  </tbody>\n",
              "</table>\n",
              "<p>5 rows × 44 columns</p>\n",
              "</div>"
            ],
            "text/plain": [
              "   presnt_emply_since  fore_wrk  ex_balance_A11  ex_balance_A12  \\\n",
              "0                   5         1               1               0   \n",
              "1                   3         1               0               1   \n",
              "2                   4         1               0               0   \n",
              "3                   4         1               1               0   \n",
              "4                   3         1               1               0   \n",
              "\n",
              "   ex_balance_A13  ex_balance_A14  cred_hist_A30  cred_hist_A31  \\\n",
              "0               0               0              0              0   \n",
              "1               0               0              0              0   \n",
              "2               0               1              0              0   \n",
              "3               0               0              0              0   \n",
              "4               0               0              0              0   \n",
              "\n",
              "   cred_hist_A32  cred_hist_A33  ...  property_A122  property_A123  \\\n",
              "0              0              0  ...              0              0   \n",
              "1              1              0  ...              0              0   \n",
              "2              0              0  ...              0              0   \n",
              "3              1              0  ...              1              0   \n",
              "4              0              1  ...              0              0   \n",
              "\n",
              "   property_A124  othr_inst_pln_A141  othr_inst_pln_A142  othr_inst_pln_A143  \\\n",
              "0              0                   0                   0                   1   \n",
              "1              0                   0                   0                   1   \n",
              "2              0                   0                   0                   1   \n",
              "3              0                   0                   0                   1   \n",
              "4              1                   0                   0                   1   \n",
              "\n",
              "   hous_A151  hous_A152  hous_A153  Risk  \n",
              "0          0          1          0     1  \n",
              "1          0          1          0     2  \n",
              "2          0          1          0     1  \n",
              "3          0          0          1     1  \n",
              "4          0          0          1     2  \n",
              "\n",
              "[5 rows x 44 columns]"
            ]
          },
          "execution_count": 66,
          "metadata": {},
          "output_type": "execute_result"
        }
      ],
      "source": [
        "# Treating all the nominal variables at once using dummy variables\n",
        "GD_for_ML_Num_GCD = pd.get_dummies(GD_for_ML_GCD)\n",
        "\n",
        "# Adding Target Variable to the data\n",
        "GD_for_ML_Num_GCD['Risk']=GD['Risk']\n",
        "\n",
        "# Printing sample rows\n",
        "GD_for_ML_Num_GCD.head()"
      ]
    },
    {
      "cell_type": "code",
      "execution_count": null,
      "metadata": {
        "collapsed": true,
        "id": "Sl_RC1IPVU3U",
        "outputId": "85f69629-3599-4a42-89d2-452095f3564d"
      },
      "outputs": [
        {
          "data": {
            "text/plain": [
              "Index(['presnt_emply_since', 'fore_wrk', 'ex_balance_A11', 'ex_balance_A12',\n",
              "       'ex_balance_A13', 'ex_balance_A14', 'cred_hist_A30', 'cred_hist_A31',\n",
              "       'cred_hist_A32', 'cred_hist_A33', 'cred_hist_A34', 'purpose_A40',\n",
              "       'purpose_A41', 'purpose_A410', 'purpose_A42', 'purpose_A43',\n",
              "       'purpose_A44', 'purpose_A45', 'purpose_A46', 'purpose_A48',\n",
              "       'purpose_A49', 'save_bonds_acc_A61', 'save_bonds_acc_A62',\n",
              "       'save_bonds_acc_A63', 'save_bonds_acc_A64', 'save_bonds_acc_A65',\n",
              "       'perso_status_sex_A91', 'perso_status_sex_A92', 'perso_status_sex_A93',\n",
              "       'perso_status_sex_A94', 'other_debtors_A101', 'other_debtors_A102',\n",
              "       'other_debtors_A103', 'property_A121', 'property_A122', 'property_A123',\n",
              "       'property_A124', 'othr_inst_pln_A141', 'othr_inst_pln_A142',\n",
              "       'othr_inst_pln_A143', 'hous_A151', 'hous_A152', 'hous_A153', 'Risk'],\n",
              "      dtype='object')"
            ]
          },
          "execution_count": 67,
          "metadata": {},
          "output_type": "execute_result"
        }
      ],
      "source": [
        "GD_for_ML_Num_GCD.columns"
      ]
    },
    {
      "cell_type": "code",
      "execution_count": null,
      "metadata": {
        "id": "EsQAte4oVU3U"
      },
      "outputs": [],
      "source": [
        "# Separate Target Variable and Predictor Variables\n",
        "\n",
        "#  'age','cred_amont','dur_month', \n",
        "\n",
        "Risk='Risk'\n",
        "Predictors=['presnt_emply_since', 'fore_wrk',\n",
        "       'ex_balance_A11', 'ex_balance_A12','ex_balance_A13', 'ex_balance_A14',\n",
        "        'cred_hist_A30', 'cred_hist_A31',\n",
        "       'cred_hist_A32', 'cred_hist_A33', 'cred_hist_A34', 'purpose_A40',\n",
        "       'purpose_A41', 'purpose_A410', 'purpose_A42', 'purpose_A43',\n",
        "       'purpose_A44', 'purpose_A45', 'purpose_A46', 'purpose_A48',\n",
        "       'purpose_A49', 'save_bonds_acc_A61', 'save_bonds_acc_A62',\n",
        "       'save_bonds_acc_A63', 'save_bonds_acc_A64', 'save_bonds_acc_A65',\n",
        "       'perso_status_sex_A91', 'perso_status_sex_A92', 'perso_status_sex_A93',\n",
        "       'perso_status_sex_A94', 'other_debtors_A101', 'other_debtors_A102',\n",
        "       'other_debtors_A103', 'property_A121', 'property_A122', 'property_A123',\n",
        "       'property_A124', 'othr_inst_pln_A141', 'othr_inst_pln_A142',\n",
        "       'othr_inst_pln_A143', 'hous_A151', 'hous_A152', 'hous_A153']\n",
        "\n",
        "X=GD_for_ML_Num_GCD[Predictors].values\n",
        "y=GD_for_ML_Num_GCD[Risk].values\n",
        "\n",
        "# Change \n",
        "# Split the data into training and testing set\n",
        "X_train, X_test, y_train, y_test = train_test_split(X, y, test_size=0.3, random_state=428)"
      ]
    },
    {
      "cell_type": "code",
      "execution_count": null,
      "metadata": {
        "id": "OZEtMclcVU3V"
      },
      "outputs": [],
      "source": [
        "# On this data Min Max Normalization produced better results\n",
        "PredictorScaler=MinMaxScaler()\n",
        "# Storing the fit object for later reference\n",
        "PredictorScalerFit=PredictorScaler.fit(X)\n",
        "# Generating the standardized values of X\n",
        "X=PredictorScalerFit.transform(X)\n",
        "# Split the data into training and testing set\n",
        "X_train, X_test, y_train, y_test = train_test_split(X, y, test_size=0.3, random_state=42)"
      ]
    },
    {
      "cell_type": "code",
      "execution_count": null,
      "metadata": {
        "id": "9EdQ8eKWVU3V",
        "outputId": "b0199d85-40b0-475f-a0aa-856543060ef9",
        "scrolled": true
      },
      "outputs": [
        {
          "name": "stdout",
          "output_type": "stream",
          "text": [
            "(700, 43)\n",
            "(700,)\n",
            "(300, 43)\n",
            "(300,)\n"
          ]
        }
      ],
      "source": [
        "# Sanity check for the sampled data\n",
        "print(X_train.shape)\n",
        "print(y_train.shape)\n",
        "print(X_test.shape)\n",
        "print(y_test.shape)"
      ]
    },
    {
      "cell_type": "markdown",
      "metadata": {
        "id": "2d1iHfZEVU3V"
      },
      "source": [
        "# Now \n",
        "Dataset (A) ready to feed into SVM & Random Forest Models. Use -<b> X_train, X_test, y_train, y_test </b> To train the models !"
      ]
    },
    {
      "cell_type": "markdown",
      "metadata": {
        "id": "ZOMARIC3VU3V"
      },
      "source": [
        "# A.4 Models development & Evaluation for German Credit Data"
      ]
    },
    {
      "cell_type": "markdown",
      "metadata": {
        "id": "5KZK42wiVU3V"
      },
      "source": [
        "<b> Naive Bayes Model - GCD"
      ]
    },
    {
      "cell_type": "code",
      "execution_count": null,
      "metadata": {
        "id": "Nrq1U9zoVU3V",
        "outputId": "3aa45380-fcbf-445d-d0c0-5b23b155c774"
      },
      "outputs": [
        {
          "name": "stdout",
          "output_type": "stream",
          "text": [
            "GaussianNB()\n",
            "              precision    recall  f1-score   support\n",
            "\n",
            "           1       0.84      0.70      0.76       209\n",
            "           2       0.50      0.70      0.59        91\n",
            "\n",
            "    accuracy                           0.70       300\n",
            "   macro avg       0.67      0.70      0.68       300\n",
            "weighted avg       0.74      0.70      0.71       300\n",
            "\n",
            "[[146  63]\n",
            " [ 27  64]]\n",
            "Accuracy of the model on Testing Sample Data: 0.71\n",
            "\n",
            "Accuracy values for 10-fold Cross Validation:\n",
            " [0.68018586 0.4911859  0.7        0.72798574 0.74741533 0.72010045\n",
            " 0.63252747 0.74430147 0.74599729 0.72798574]\n",
            "\n",
            "Final Average Accuracy of the model: 0.69\n"
          ]
        }
      ],
      "source": [
        "# Naive Bays\n",
        "from sklearn.naive_bayes import GaussianNB, MultinomialNB\n",
        "\n",
        "# GaussianNB is used in Binomial Classification\n",
        "# MultinomialNB is used in multi-class classification\n",
        "clf = GaussianNB()\n",
        "#clf = MultinomialNB()\n",
        "\n",
        "# Printing all the parameters of Naive Bayes\n",
        "print(clf)\n",
        "\n",
        "NB=clf.fit(X_train,y_train)\n",
        "prediction=NB.predict(X_test)\n",
        "\n",
        "# Measuring accuracy on Testing Data\n",
        "from sklearn import metrics\n",
        "print(metrics.classification_report(y_test, prediction))\n",
        "print(metrics.confusion_matrix(y_test, prediction))\n",
        "\n",
        "# Printing the Overall Accuracy of the model\n",
        "F1_Score=metrics.f1_score(y_test, prediction, average='weighted')\n",
        "print('Accuracy of the model on Testing Sample Data:', round(F1_Score,2))\n",
        "\n",
        "# Importing cross validation function from sklearn\n",
        "from sklearn.model_selection import cross_val_score\n",
        "\n",
        "# Running 10-Fold Cross validation on a given algorithm\n",
        "# Passing full data X and y because the K-fold will split the data and automatically choose train/test\n",
        "Accuracy_Values=cross_val_score(NB, X , y, cv=10, scoring='f1_weighted')\n",
        "print('\\nAccuracy values for 10-fold Cross Validation:\\n',Accuracy_Values)\n",
        "print('\\nFinal Average Accuracy of the model:', round(Accuracy_Values.mean(),2))"
      ]
    },
    {
      "cell_type": "markdown",
      "metadata": {
        "id": "12XxUl_FVU3W"
      },
      "source": [
        "<b> SVM Model -GCD </b> "
      ]
    },
    {
      "cell_type": "code",
      "execution_count": null,
      "metadata": {
        "id": "iJYXgSgPVU3W",
        "outputId": "063c1b26-adea-4a17-e6d8-4007a46e5c81"
      },
      "outputs": [
        {
          "name": "stdout",
          "output_type": "stream",
          "text": [
            "SVC(C=2, gamma=0.1)\n",
            "              precision    recall  f1-score   support\n",
            "\n",
            "           1       0.78      0.88      0.83       209\n",
            "           2       0.62      0.44      0.51        91\n",
            "\n",
            "    accuracy                           0.75       300\n",
            "   macro avg       0.70      0.66      0.67       300\n",
            "weighted avg       0.73      0.75      0.73       300\n",
            "\n",
            "[[184  25]\n",
            " [ 51  40]]\n",
            "Accuracy of the model on Testing Sample Data: 0.73\n",
            "\n",
            "Accuracy values for 10-fold Cross Validation:\n",
            " [0.74796273 0.73944295 0.75159817 0.70133333 0.76351097 0.73104474\n",
            " 0.68503119 0.75665219 0.76533333 0.70541038]\n",
            "\n",
            "Final Average Accuracy of the model: 0.73\n"
          ]
        }
      ],
      "source": [
        "clf = svm.SVC(C=2, kernel='rbf', gamma=0.1) # Using Radial-basis function\n",
        "# Printing all the parameters of SVM\n",
        "print(clf)\n",
        "\n",
        "# Creating the model on Training Data\n",
        "SVM=clf.fit(X_train,y_train)\n",
        "prediction=SVM.predict(X_test)\n",
        "\n",
        "# Measuring accuracy on Testing Data\n",
        "print(metrics.classification_report(y_test, prediction))\n",
        "print(metrics.confusion_matrix(y_test, prediction))\n",
        "\n",
        "# Printing the Overall Accuracy of the model\n",
        "F1_Score=metrics.f1_score(y_test, prediction, average='weighted')\n",
        "print('Accuracy of the model on Testing Sample Data:', round(F1_Score,2))\n",
        "\n",
        "# Running 10-Fold Cross validation on a given algorithm\n",
        "# Passing full data X and y because the K-fold will split the data and automatically choose train/test\n",
        "Accuracy_Values=cross_val_score(SVM, X , y, cv=10, scoring='f1_weighted')\n",
        "print('\\nAccuracy values for 10-fold Cross Validation:\\n',Accuracy_Values)\n",
        "print('\\nFinal Average Accuracy of the model:', round(Accuracy_Values.mean(),2))\n",
        "\n",
        "\n",
        "# Plotting the feature importance for Top 10 most important columns\n",
        "# The built in attribute SVM.coef_ works only for linear kernel\n",
        "%matplotlib inline\n",
        "#feature_importances = pd.Series(SVM.coef_[0], index=Predictors)\n",
        "#feature_importances.nlargest(10).plot(kind='barh')"
      ]
    },
    {
      "cell_type": "markdown",
      "metadata": {
        "id": "dLWNcYlvVU3W"
      },
      "source": [
        "<b> Random forest - GCD"
      ]
    },
    {
      "cell_type": "code",
      "execution_count": null,
      "metadata": {
        "id": "KFvkNUNDVU3W",
        "outputId": "a96c5a76-0c95-4a18-9d4b-91aa0df3b95d"
      },
      "outputs": [
        {
          "name": "stdout",
          "output_type": "stream",
          "text": [
            "RandomForestClassifier(max_depth=10)\n",
            "              precision    recall  f1-score   support\n",
            "\n",
            "           1       0.76      0.89      0.81       209\n",
            "           2       0.56      0.34      0.42        91\n",
            "\n",
            "    accuracy                           0.72       300\n",
            "   macro avg       0.66      0.61      0.62       300\n",
            "weighted avg       0.70      0.72      0.70       300\n",
            "\n",
            "[[185  24]\n",
            " [ 60  31]]\n",
            "Accuracy of the model on Testing Sample Data: 0.7\n",
            "\n",
            "Accuracy values for 10-fold Cross Validation:\n",
            " [0.72224231 0.71776316 0.71433083 0.68       0.77229833 0.69124574\n",
            " 0.69605263 0.71776316 0.71225296 0.72238245]\n",
            "\n",
            "Final Average Accuracy of the model: 0.71\n"
          ]
        },
        {
          "data": {
            "text/plain": [
              "<AxesSubplot:>"
            ]
          },
          "execution_count": 73,
          "metadata": {},
          "output_type": "execute_result"
        },
        {
          "data": {
            "image/png": "[encoded data removed]",
            "text/plain": [
              "<Figure size 432x288 with 1 Axes>"
            ]
          },
          "metadata": {
            "needs_background": "light"
          },
          "output_type": "display_data"
        }
      ],
      "source": [
        "# Random Forest (Bagging of multiple Decision Trees)\n",
        "from sklearn.ensemble import RandomForestClassifier\n",
        "# Choose various values of max_depth, n_estimators and criterion for tuning the model\n",
        "clf = RandomForestClassifier(max_depth=10, n_estimators=100,criterion='gini')\n",
        "\n",
        "# Printing all the parameters of Random Forest\n",
        "print(clf)\n",
        "\n",
        "# Creating the model on Training Data\n",
        "RF=clf.fit(X_train,y_train)\n",
        "prediction=RF.predict(X_test)\n",
        "\n",
        "# Measuring accuracy on Testing Data\n",
        "print(metrics.classification_report(y_test, prediction))\n",
        "print(metrics.confusion_matrix(y_test, prediction))\n",
        "\n",
        "# Printing the Overall Accuracy of the model\n",
        "F1_Score=metrics.f1_score(y_test, prediction, average='weighted')\n",
        "print('Accuracy of the model on Testing Sample Data:', round(F1_Score,2))\n",
        "\n",
        "# Running 10-Fold Cross validation on a given algorithm\n",
        "# Passing full data X and y because the K-fold will split the data and automatically choose train/test\n",
        "Accuracy_Values=cross_val_score(RF, X , y, cv=10, scoring='f1_weighted')\n",
        "print('\\nAccuracy values for 10-fold Cross Validation:\\n',Accuracy_Values)\n",
        "print('\\nFinal Average Accuracy of the model:', round(Accuracy_Values.mean(),2))\n",
        "\n",
        "# Plotting the feature importance for Top 10 most important columns\n",
        "%matplotlib inline\n",
        "feature_importances = pd.Series(RF.feature_importances_, index=Predictors)\n",
        "feature_importances.nlargest(10).plot(kind='barh')"
      ]
    },
    {
      "cell_type": "markdown",
      "metadata": {
        "id": "3Jf5Kd8_VU3W"
      },
      "source": [
        "# (B) Breast cancer data - Description\n"
      ]
    },
    {
      "cell_type": "markdown",
      "metadata": {
        "id": "vZyS07BXVU3X"
      },
      "source": [
        "The breast cancer dataset is a classic binary classification dataset that is simple to use. If True, instead of a Bunch object, returns (data, target). \n",
        "\n",
        "\n",
        "<b> Dataset from lab 4 Link: https://surreylearn.surrey.ac.uk/d2l/le/lessons/209089/topics/2080857 </b>\n",
        "\n",
        "\n",
        "\n",
        " In this task I used berast cancer dataset contins 32 columns (features) and 570 records (rows): </b>\n",
        "\n",
        "- <b> id </b>            \n",
        "- <b>diagnosis  </b>           \n",
        "- <b>radius_mean   </b>          \n",
        "- <b>texture_mean   </b>   \n",
        "- <b>perimeter_mean </b>      \n",
        "- <b>area_mean  </b>     \n",
        "- <b>smoothness_mean </b>\n",
        "- <b>compactness_mean </b>\n",
        "- <b>concavity_mean  </b>   \n",
        "- <b>concave points_mean    </b>      \n",
        "- <b>symmetry_mean </b>    \n",
        "- <b>fractal_dimension_mean        </b>          \n",
        "- <b>radius_se        </b>          \n",
        "- <b>texture_se  </b>       \n",
        "- <b>perimeter_se          </b>  \n",
        "- <b>area_se </b> \n",
        "- <b>smoothness_se        </b>          \n",
        "- <b>compactness_se   </b>          \n",
        "- <b>concavity_se        </b>   \n",
        "- <b>concave points_se   </b>    \n",
        "- <b>symmetry_se        </b>         \n",
        "- <b>fractal_dimension_se </b> \n",
        "- <b>radius_worst        </b>      \n",
        "- <b>texture_worst   </b>       \n",
        "- <b>perimeter_worst        </b>          \n",
        "- <b>area_worst   </b>            \n",
        "- <b>smoothness_worst        </b>     \n",
        "- <b>compactness_worst </b> \n",
        "- <b>concavity_worst        </b>       \n",
        "- <b>concave points_worst   </b>   \n",
        "- <b>symmetry_worst        </b>        \n",
        "- <b>fractal_dimension_worst   </b>          "
      ]
    },
    {
      "cell_type": "code",
      "execution_count": null,
      "metadata": {
        "id": "nFvfxYp3VU3X"
      },
      "outputs": [],
      "source": [
        "# Reading breast dataset from my local storage\n",
        "BC_v = pd.read_csv('C:/Users/44784/Desktop/Machine learning and Data Mining/Code/Muaad-6664948-LSA-COMM055/breast_cancer_data_v.csv')\n",
        "\n",
        "\n",
        "#'C:/Users/44784/Desktop/Machine learning and Data Mining/Code/Muaad-6664948-LSA-COMM055/breast_cancer_data.csv'"
      ]
    },
    {
      "cell_type": "markdown",
      "metadata": {
        "id": "1VKaPWHkVU3X"
      },
      "source": [
        "# B.1 Breast Cancer Data - Exploratory Data Analysis (EDA)"
      ]
    },
    {
      "cell_type": "code",
      "execution_count": null,
      "metadata": {
        "collapsed": true,
        "id": "NLTFhpqrVU3X",
        "outputId": "0959c24f-67c8-44da-afcc-2de3fd720aa2"
      },
      "outputs": [
        {
          "name": "stdout",
          "output_type": "stream",
          "text": [
            "<class 'pandas.core.frame.DataFrame'>\n",
            "RangeIndex: 569 entries, 0 to 568\n",
            "Data columns (total 33 columns):\n",
            " #   Column                   Non-Null Count  Dtype  \n",
            "---  ------                   --------------  -----  \n",
            " 0   id                       569 non-null    int64  \n",
            " 1   diagnosis                569 non-null    object \n",
            " 2   radius_mean              569 non-null    float64\n",
            " 3   texture_mean             569 non-null    float64\n",
            " 4   perimeter_mean           569 non-null    float64\n",
            " 5   area_mean                569 non-null    float64\n",
            " 6   smoothness_mean          569 non-null    float64\n",
            " 7   compactness_mean         569 non-null    float64\n",
            " 8   concavity_mean           569 non-null    float64\n",
            " 9   concave points_mean      569 non-null    float64\n",
            " 10  symmetry_mean            569 non-null    float64\n",
            " 11  fractal_dimension_mean   569 non-null    float64\n",
            " 12  radius_se                569 non-null    float64\n",
            " 13  texture_se               569 non-null    float64\n",
            " 14  perimeter_se             569 non-null    float64\n",
            " 15  area_se                  569 non-null    float64\n",
            " 16  smoothness_se            569 non-null    float64\n",
            " 17  compactness_se           569 non-null    float64\n",
            " 18  concavity_se             569 non-null    float64\n",
            " 19  concave points_se        569 non-null    float64\n",
            " 20  symmetry_se              569 non-null    float64\n",
            " 21  fractal_dimension_se     569 non-null    float64\n",
            " 22  radius_worst             569 non-null    float64\n",
            " 23  texture_worst            569 non-null    float64\n",
            " 24  perimeter_worst          569 non-null    float64\n",
            " 25  area_worst               569 non-null    float64\n",
            " 26  smoothness_worst         569 non-null    float64\n",
            " 27  compactness_worst        569 non-null    float64\n",
            " 28  concavity_worst          569 non-null    float64\n",
            " 29  concave points_worst     569 non-null    float64\n",
            " 30  symmetry_worst           569 non-null    float64\n",
            " 31  fractal_dimension_worst  569 non-null    float64\n",
            " 32  Unnamed: 32              0 non-null      float64\n",
            "dtypes: float64(31), int64(1), object(1)\n",
            "memory usage: 146.8+ KB\n"
          ]
        }
      ],
      "source": [
        "# Overall view of the data:\n",
        "BC_v.info()"
      ]
    },
    {
      "cell_type": "code",
      "execution_count": null,
      "metadata": {
        "collapsed": true,
        "id": "Tn9utMcJVU3X",
        "outputId": "21509d07-4720-43f4-c46d-aa232d43cf77"
      },
      "outputs": [
        {
          "data": {
            "text/html": [
              "<div>\n",
              "<style scoped>\n",
              "    .dataframe tbody tr th:only-of-type {\n",
              "        vertical-align: middle;\n",
              "    }\n",
              "\n",
              "    .dataframe tbody tr th {\n",
              "        vertical-align: top;\n",
              "    }\n",
              "\n",
              "    .dataframe thead th {\n",
              "        text-align: right;\n",
              "    }\n",
              "</style>\n",
              "<table border=\"1\" class=\"dataframe\">\n",
              "  <thead>\n",
              "    <tr style=\"text-align: right;\">\n",
              "      <th></th>\n",
              "      <th>id</th>\n",
              "      <th>diagnosis</th>\n",
              "      <th>radius_mean</th>\n",
              "      <th>texture_mean</th>\n",
              "      <th>perimeter_mean</th>\n",
              "      <th>area_mean</th>\n",
              "      <th>smoothness_mean</th>\n",
              "      <th>compactness_mean</th>\n",
              "      <th>concavity_mean</th>\n",
              "      <th>concave points_mean</th>\n",
              "      <th>...</th>\n",
              "      <th>texture_worst</th>\n",
              "      <th>perimeter_worst</th>\n",
              "      <th>area_worst</th>\n",
              "      <th>smoothness_worst</th>\n",
              "      <th>compactness_worst</th>\n",
              "      <th>concavity_worst</th>\n",
              "      <th>concave points_worst</th>\n",
              "      <th>symmetry_worst</th>\n",
              "      <th>fractal_dimension_worst</th>\n",
              "      <th>Unnamed: 32</th>\n",
              "    </tr>\n",
              "  </thead>\n",
              "  <tbody>\n",
              "    <tr>\n",
              "      <th>0</th>\n",
              "      <td>842302</td>\n",
              "      <td>M</td>\n",
              "      <td>17.99</td>\n",
              "      <td>10.38</td>\n",
              "      <td>122.80</td>\n",
              "      <td>1001.0</td>\n",
              "      <td>0.11840</td>\n",
              "      <td>0.27760</td>\n",
              "      <td>0.3001</td>\n",
              "      <td>0.14710</td>\n",
              "      <td>...</td>\n",
              "      <td>17.33</td>\n",
              "      <td>184.60</td>\n",
              "      <td>2019.0</td>\n",
              "      <td>0.1622</td>\n",
              "      <td>0.6656</td>\n",
              "      <td>0.7119</td>\n",
              "      <td>0.2654</td>\n",
              "      <td>0.4601</td>\n",
              "      <td>0.11890</td>\n",
              "      <td>NaN</td>\n",
              "    </tr>\n",
              "    <tr>\n",
              "      <th>1</th>\n",
              "      <td>842517</td>\n",
              "      <td>M</td>\n",
              "      <td>20.57</td>\n",
              "      <td>17.77</td>\n",
              "      <td>132.90</td>\n",
              "      <td>1326.0</td>\n",
              "      <td>0.08474</td>\n",
              "      <td>0.07864</td>\n",
              "      <td>0.0869</td>\n",
              "      <td>0.07017</td>\n",
              "      <td>...</td>\n",
              "      <td>23.41</td>\n",
              "      <td>158.80</td>\n",
              "      <td>1956.0</td>\n",
              "      <td>0.1238</td>\n",
              "      <td>0.1866</td>\n",
              "      <td>0.2416</td>\n",
              "      <td>0.1860</td>\n",
              "      <td>0.2750</td>\n",
              "      <td>0.08902</td>\n",
              "      <td>NaN</td>\n",
              "    </tr>\n",
              "    <tr>\n",
              "      <th>2</th>\n",
              "      <td>84300903</td>\n",
              "      <td>M</td>\n",
              "      <td>19.69</td>\n",
              "      <td>21.25</td>\n",
              "      <td>130.00</td>\n",
              "      <td>1203.0</td>\n",
              "      <td>0.10960</td>\n",
              "      <td>0.15990</td>\n",
              "      <td>0.1974</td>\n",
              "      <td>0.12790</td>\n",
              "      <td>...</td>\n",
              "      <td>25.53</td>\n",
              "      <td>152.50</td>\n",
              "      <td>1709.0</td>\n",
              "      <td>0.1444</td>\n",
              "      <td>0.4245</td>\n",
              "      <td>0.4504</td>\n",
              "      <td>0.2430</td>\n",
              "      <td>0.3613</td>\n",
              "      <td>0.08758</td>\n",
              "      <td>NaN</td>\n",
              "    </tr>\n",
              "    <tr>\n",
              "      <th>3</th>\n",
              "      <td>84348301</td>\n",
              "      <td>M</td>\n",
              "      <td>11.42</td>\n",
              "      <td>20.38</td>\n",
              "      <td>77.58</td>\n",
              "      <td>386.1</td>\n",
              "      <td>0.14250</td>\n",
              "      <td>0.28390</td>\n",
              "      <td>0.2414</td>\n",
              "      <td>0.10520</td>\n",
              "      <td>...</td>\n",
              "      <td>26.50</td>\n",
              "      <td>98.87</td>\n",
              "      <td>567.7</td>\n",
              "      <td>0.2098</td>\n",
              "      <td>0.8663</td>\n",
              "      <td>0.6869</td>\n",
              "      <td>0.2575</td>\n",
              "      <td>0.6638</td>\n",
              "      <td>0.17300</td>\n",
              "      <td>NaN</td>\n",
              "    </tr>\n",
              "    <tr>\n",
              "      <th>4</th>\n",
              "      <td>84358402</td>\n",
              "      <td>M</td>\n",
              "      <td>20.29</td>\n",
              "      <td>14.34</td>\n",
              "      <td>135.10</td>\n",
              "      <td>1297.0</td>\n",
              "      <td>0.10030</td>\n",
              "      <td>0.13280</td>\n",
              "      <td>0.1980</td>\n",
              "      <td>0.10430</td>\n",
              "      <td>...</td>\n",
              "      <td>16.67</td>\n",
              "      <td>152.20</td>\n",
              "      <td>1575.0</td>\n",
              "      <td>0.1374</td>\n",
              "      <td>0.2050</td>\n",
              "      <td>0.4000</td>\n",
              "      <td>0.1625</td>\n",
              "      <td>0.2364</td>\n",
              "      <td>0.07678</td>\n",
              "      <td>NaN</td>\n",
              "    </tr>\n",
              "  </tbody>\n",
              "</table>\n",
              "<p>5 rows × 33 columns</p>\n",
              "</div>"
            ],
            "text/plain": [
              "         id diagnosis  radius_mean  texture_mean  perimeter_mean  area_mean  \\\n",
              "0    842302         M        17.99         10.38          122.80     1001.0   \n",
              "1    842517         M        20.57         17.77          132.90     1326.0   \n",
              "2  84300903         M        19.69         21.25          130.00     1203.0   \n",
              "3  84348301         M        11.42         20.38           77.58      386.1   \n",
              "4  84358402         M        20.29         14.34          135.10     1297.0   \n",
              "\n",
              "   smoothness_mean  compactness_mean  concavity_mean  concave points_mean  \\\n",
              "0          0.11840           0.27760          0.3001              0.14710   \n",
              "1          0.08474           0.07864          0.0869              0.07017   \n",
              "2          0.10960           0.15990          0.1974              0.12790   \n",
              "3          0.14250           0.28390          0.2414              0.10520   \n",
              "4          0.10030           0.13280          0.1980              0.10430   \n",
              "\n",
              "   ...  texture_worst  perimeter_worst  area_worst  smoothness_worst  \\\n",
              "0  ...          17.33           184.60      2019.0            0.1622   \n",
              "1  ...          23.41           158.80      1956.0            0.1238   \n",
              "2  ...          25.53           152.50      1709.0            0.1444   \n",
              "3  ...          26.50            98.87       567.7            0.2098   \n",
              "4  ...          16.67           152.20      1575.0            0.1374   \n",
              "\n",
              "   compactness_worst  concavity_worst  concave points_worst  symmetry_worst  \\\n",
              "0             0.6656           0.7119                0.2654          0.4601   \n",
              "1             0.1866           0.2416                0.1860          0.2750   \n",
              "2             0.4245           0.4504                0.2430          0.3613   \n",
              "3             0.8663           0.6869                0.2575          0.6638   \n",
              "4             0.2050           0.4000                0.1625          0.2364   \n",
              "\n",
              "   fractal_dimension_worst  Unnamed: 32  \n",
              "0                  0.11890          NaN  \n",
              "1                  0.08902          NaN  \n",
              "2                  0.08758          NaN  \n",
              "3                  0.17300          NaN  \n",
              "4                  0.07678          NaN  \n",
              "\n",
              "[5 rows x 33 columns]"
            ]
          },
          "execution_count": 76,
          "metadata": {},
          "output_type": "execute_result"
        }
      ],
      "source": [
        "# Checking the first few rows:\n",
        "BC_v.head()"
      ]
    },
    {
      "cell_type": "code",
      "execution_count": null,
      "metadata": {
        "collapsed": true,
        "id": "fcJxcZy0VU3Y",
        "outputId": "c6dc0150-2523-4a8b-9097-eb5b3e9dd8f6"
      },
      "outputs": [
        {
          "data": {
            "text/html": [
              "<div>\n",
              "<style scoped>\n",
              "    .dataframe tbody tr th:only-of-type {\n",
              "        vertical-align: middle;\n",
              "    }\n",
              "\n",
              "    .dataframe tbody tr th {\n",
              "        vertical-align: top;\n",
              "    }\n",
              "\n",
              "    .dataframe thead th {\n",
              "        text-align: right;\n",
              "    }\n",
              "</style>\n",
              "<table border=\"1\" class=\"dataframe\">\n",
              "  <thead>\n",
              "    <tr style=\"text-align: right;\">\n",
              "      <th></th>\n",
              "      <th>id</th>\n",
              "      <th>diagnosis</th>\n",
              "      <th>radius_mean</th>\n",
              "      <th>texture_mean</th>\n",
              "      <th>perimeter_mean</th>\n",
              "      <th>area_mean</th>\n",
              "      <th>smoothness_mean</th>\n",
              "      <th>compactness_mean</th>\n",
              "      <th>concavity_mean</th>\n",
              "      <th>concave points_mean</th>\n",
              "      <th>...</th>\n",
              "      <th>texture_worst</th>\n",
              "      <th>perimeter_worst</th>\n",
              "      <th>area_worst</th>\n",
              "      <th>smoothness_worst</th>\n",
              "      <th>compactness_worst</th>\n",
              "      <th>concavity_worst</th>\n",
              "      <th>concave points_worst</th>\n",
              "      <th>symmetry_worst</th>\n",
              "      <th>fractal_dimension_worst</th>\n",
              "      <th>Unnamed: 32</th>\n",
              "    </tr>\n",
              "  </thead>\n",
              "  <tbody>\n",
              "    <tr>\n",
              "      <th>count</th>\n",
              "      <td>5.690000e+02</td>\n",
              "      <td>569</td>\n",
              "      <td>569.000000</td>\n",
              "      <td>569.000000</td>\n",
              "      <td>569.000000</td>\n",
              "      <td>569.000000</td>\n",
              "      <td>569.000000</td>\n",
              "      <td>569.000000</td>\n",
              "      <td>569.000000</td>\n",
              "      <td>569.000000</td>\n",
              "      <td>...</td>\n",
              "      <td>569.000000</td>\n",
              "      <td>569.000000</td>\n",
              "      <td>569.000000</td>\n",
              "      <td>569.000000</td>\n",
              "      <td>569.000000</td>\n",
              "      <td>569.000000</td>\n",
              "      <td>569.000000</td>\n",
              "      <td>569.000000</td>\n",
              "      <td>569.000000</td>\n",
              "      <td>0.0</td>\n",
              "    </tr>\n",
              "    <tr>\n",
              "      <th>unique</th>\n",
              "      <td>NaN</td>\n",
              "      <td>2</td>\n",
              "      <td>NaN</td>\n",
              "      <td>NaN</td>\n",
              "      <td>NaN</td>\n",
              "      <td>NaN</td>\n",
              "      <td>NaN</td>\n",
              "      <td>NaN</td>\n",
              "      <td>NaN</td>\n",
              "      <td>NaN</td>\n",
              "      <td>...</td>\n",
              "      <td>NaN</td>\n",
              "      <td>NaN</td>\n",
              "      <td>NaN</td>\n",
              "      <td>NaN</td>\n",
              "      <td>NaN</td>\n",
              "      <td>NaN</td>\n",
              "      <td>NaN</td>\n",
              "      <td>NaN</td>\n",
              "      <td>NaN</td>\n",
              "      <td>NaN</td>\n",
              "    </tr>\n",
              "    <tr>\n",
              "      <th>top</th>\n",
              "      <td>NaN</td>\n",
              "      <td>B</td>\n",
              "      <td>NaN</td>\n",
              "      <td>NaN</td>\n",
              "      <td>NaN</td>\n",
              "      <td>NaN</td>\n",
              "      <td>NaN</td>\n",
              "      <td>NaN</td>\n",
              "      <td>NaN</td>\n",
              "      <td>NaN</td>\n",
              "      <td>...</td>\n",
              "      <td>NaN</td>\n",
              "      <td>NaN</td>\n",
              "      <td>NaN</td>\n",
              "      <td>NaN</td>\n",
              "      <td>NaN</td>\n",
              "      <td>NaN</td>\n",
              "      <td>NaN</td>\n",
              "      <td>NaN</td>\n",
              "      <td>NaN</td>\n",
              "      <td>NaN</td>\n",
              "    </tr>\n",
              "    <tr>\n",
              "      <th>freq</th>\n",
              "      <td>NaN</td>\n",
              "      <td>357</td>\n",
              "      <td>NaN</td>\n",
              "      <td>NaN</td>\n",
              "      <td>NaN</td>\n",
              "      <td>NaN</td>\n",
              "      <td>NaN</td>\n",
              "      <td>NaN</td>\n",
              "      <td>NaN</td>\n",
              "      <td>NaN</td>\n",
              "      <td>...</td>\n",
              "      <td>NaN</td>\n",
              "      <td>NaN</td>\n",
              "      <td>NaN</td>\n",
              "      <td>NaN</td>\n",
              "      <td>NaN</td>\n",
              "      <td>NaN</td>\n",
              "      <td>NaN</td>\n",
              "      <td>NaN</td>\n",
              "      <td>NaN</td>\n",
              "      <td>NaN</td>\n",
              "    </tr>\n",
              "    <tr>\n",
              "      <th>mean</th>\n",
              "      <td>3.037183e+07</td>\n",
              "      <td>NaN</td>\n",
              "      <td>14.127292</td>\n",
              "      <td>19.289649</td>\n",
              "      <td>91.969033</td>\n",
              "      <td>654.889104</td>\n",
              "      <td>0.096360</td>\n",
              "      <td>0.104341</td>\n",
              "      <td>0.088799</td>\n",
              "      <td>0.048919</td>\n",
              "      <td>...</td>\n",
              "      <td>25.677223</td>\n",
              "      <td>107.261213</td>\n",
              "      <td>880.583128</td>\n",
              "      <td>0.132369</td>\n",
              "      <td>0.254265</td>\n",
              "      <td>0.272188</td>\n",
              "      <td>0.114606</td>\n",
              "      <td>0.290076</td>\n",
              "      <td>0.083946</td>\n",
              "      <td>NaN</td>\n",
              "    </tr>\n",
              "    <tr>\n",
              "      <th>std</th>\n",
              "      <td>1.250206e+08</td>\n",
              "      <td>NaN</td>\n",
              "      <td>3.524049</td>\n",
              "      <td>4.301036</td>\n",
              "      <td>24.298981</td>\n",
              "      <td>351.914129</td>\n",
              "      <td>0.014064</td>\n",
              "      <td>0.052813</td>\n",
              "      <td>0.079720</td>\n",
              "      <td>0.038803</td>\n",
              "      <td>...</td>\n",
              "      <td>6.146258</td>\n",
              "      <td>33.602542</td>\n",
              "      <td>569.356993</td>\n",
              "      <td>0.022832</td>\n",
              "      <td>0.157336</td>\n",
              "      <td>0.208624</td>\n",
              "      <td>0.065732</td>\n",
              "      <td>0.061867</td>\n",
              "      <td>0.018061</td>\n",
              "      <td>NaN</td>\n",
              "    </tr>\n",
              "    <tr>\n",
              "      <th>min</th>\n",
              "      <td>8.670000e+03</td>\n",
              "      <td>NaN</td>\n",
              "      <td>6.981000</td>\n",
              "      <td>9.710000</td>\n",
              "      <td>43.790000</td>\n",
              "      <td>143.500000</td>\n",
              "      <td>0.052630</td>\n",
              "      <td>0.019380</td>\n",
              "      <td>0.000000</td>\n",
              "      <td>0.000000</td>\n",
              "      <td>...</td>\n",
              "      <td>12.020000</td>\n",
              "      <td>50.410000</td>\n",
              "      <td>185.200000</td>\n",
              "      <td>0.071170</td>\n",
              "      <td>0.027290</td>\n",
              "      <td>0.000000</td>\n",
              "      <td>0.000000</td>\n",
              "      <td>0.156500</td>\n",
              "      <td>0.055040</td>\n",
              "      <td>NaN</td>\n",
              "    </tr>\n",
              "    <tr>\n",
              "      <th>25%</th>\n",
              "      <td>8.692180e+05</td>\n",
              "      <td>NaN</td>\n",
              "      <td>11.700000</td>\n",
              "      <td>16.170000</td>\n",
              "      <td>75.170000</td>\n",
              "      <td>420.300000</td>\n",
              "      <td>0.086370</td>\n",
              "      <td>0.064920</td>\n",
              "      <td>0.029560</td>\n",
              "      <td>0.020310</td>\n",
              "      <td>...</td>\n",
              "      <td>21.080000</td>\n",
              "      <td>84.110000</td>\n",
              "      <td>515.300000</td>\n",
              "      <td>0.116600</td>\n",
              "      <td>0.147200</td>\n",
              "      <td>0.114500</td>\n",
              "      <td>0.064930</td>\n",
              "      <td>0.250400</td>\n",
              "      <td>0.071460</td>\n",
              "      <td>NaN</td>\n",
              "    </tr>\n",
              "    <tr>\n",
              "      <th>50%</th>\n",
              "      <td>9.060240e+05</td>\n",
              "      <td>NaN</td>\n",
              "      <td>13.370000</td>\n",
              "      <td>18.840000</td>\n",
              "      <td>86.240000</td>\n",
              "      <td>551.100000</td>\n",
              "      <td>0.095870</td>\n",
              "      <td>0.092630</td>\n",
              "      <td>0.061540</td>\n",
              "      <td>0.033500</td>\n",
              "      <td>...</td>\n",
              "      <td>25.410000</td>\n",
              "      <td>97.660000</td>\n",
              "      <td>686.500000</td>\n",
              "      <td>0.131300</td>\n",
              "      <td>0.211900</td>\n",
              "      <td>0.226700</td>\n",
              "      <td>0.099930</td>\n",
              "      <td>0.282200</td>\n",
              "      <td>0.080040</td>\n",
              "      <td>NaN</td>\n",
              "    </tr>\n",
              "    <tr>\n",
              "      <th>75%</th>\n",
              "      <td>8.813129e+06</td>\n",
              "      <td>NaN</td>\n",
              "      <td>15.780000</td>\n",
              "      <td>21.800000</td>\n",
              "      <td>104.100000</td>\n",
              "      <td>782.700000</td>\n",
              "      <td>0.105300</td>\n",
              "      <td>0.130400</td>\n",
              "      <td>0.130700</td>\n",
              "      <td>0.074000</td>\n",
              "      <td>...</td>\n",
              "      <td>29.720000</td>\n",
              "      <td>125.400000</td>\n",
              "      <td>1084.000000</td>\n",
              "      <td>0.146000</td>\n",
              "      <td>0.339100</td>\n",
              "      <td>0.382900</td>\n",
              "      <td>0.161400</td>\n",
              "      <td>0.317900</td>\n",
              "      <td>0.092080</td>\n",
              "      <td>NaN</td>\n",
              "    </tr>\n",
              "    <tr>\n",
              "      <th>max</th>\n",
              "      <td>9.113205e+08</td>\n",
              "      <td>NaN</td>\n",
              "      <td>28.110000</td>\n",
              "      <td>39.280000</td>\n",
              "      <td>188.500000</td>\n",
              "      <td>2501.000000</td>\n",
              "      <td>0.163400</td>\n",
              "      <td>0.345400</td>\n",
              "      <td>0.426800</td>\n",
              "      <td>0.201200</td>\n",
              "      <td>...</td>\n",
              "      <td>49.540000</td>\n",
              "      <td>251.200000</td>\n",
              "      <td>4254.000000</td>\n",
              "      <td>0.222600</td>\n",
              "      <td>1.058000</td>\n",
              "      <td>1.252000</td>\n",
              "      <td>0.291000</td>\n",
              "      <td>0.663800</td>\n",
              "      <td>0.207500</td>\n",
              "      <td>NaN</td>\n",
              "    </tr>\n",
              "  </tbody>\n",
              "</table>\n",
              "<p>11 rows × 33 columns</p>\n",
              "</div>"
            ],
            "text/plain": [
              "                  id diagnosis  radius_mean  texture_mean  perimeter_mean  \\\n",
              "count   5.690000e+02       569   569.000000    569.000000      569.000000   \n",
              "unique           NaN         2          NaN           NaN             NaN   \n",
              "top              NaN         B          NaN           NaN             NaN   \n",
              "freq             NaN       357          NaN           NaN             NaN   \n",
              "mean    3.037183e+07       NaN    14.127292     19.289649       91.969033   \n",
              "std     1.250206e+08       NaN     3.524049      4.301036       24.298981   \n",
              "min     8.670000e+03       NaN     6.981000      9.710000       43.790000   \n",
              "25%     8.692180e+05       NaN    11.700000     16.170000       75.170000   \n",
              "50%     9.060240e+05       NaN    13.370000     18.840000       86.240000   \n",
              "75%     8.813129e+06       NaN    15.780000     21.800000      104.100000   \n",
              "max     9.113205e+08       NaN    28.110000     39.280000      188.500000   \n",
              "\n",
              "          area_mean  smoothness_mean  compactness_mean  concavity_mean  \\\n",
              "count    569.000000       569.000000        569.000000      569.000000   \n",
              "unique          NaN              NaN               NaN             NaN   \n",
              "top             NaN              NaN               NaN             NaN   \n",
              "freq            NaN              NaN               NaN             NaN   \n",
              "mean     654.889104         0.096360          0.104341        0.088799   \n",
              "std      351.914129         0.014064          0.052813        0.079720   \n",
              "min      143.500000         0.052630          0.019380        0.000000   \n",
              "25%      420.300000         0.086370          0.064920        0.029560   \n",
              "50%      551.100000         0.095870          0.092630        0.061540   \n",
              "75%      782.700000         0.105300          0.130400        0.130700   \n",
              "max     2501.000000         0.163400          0.345400        0.426800   \n",
              "\n",
              "        concave points_mean  ...  texture_worst  perimeter_worst   area_worst  \\\n",
              "count            569.000000  ...     569.000000       569.000000   569.000000   \n",
              "unique                  NaN  ...            NaN              NaN          NaN   \n",
              "top                     NaN  ...            NaN              NaN          NaN   \n",
              "freq                    NaN  ...            NaN              NaN          NaN   \n",
              "mean               0.048919  ...      25.677223       107.261213   880.583128   \n",
              "std                0.038803  ...       6.146258        33.602542   569.356993   \n",
              "min                0.000000  ...      12.020000        50.410000   185.200000   \n",
              "25%                0.020310  ...      21.080000        84.110000   515.300000   \n",
              "50%                0.033500  ...      25.410000        97.660000   686.500000   \n",
              "75%                0.074000  ...      29.720000       125.400000  1084.000000   \n",
              "max                0.201200  ...      49.540000       251.200000  4254.000000   \n",
              "\n",
              "        smoothness_worst  compactness_worst  concavity_worst  \\\n",
              "count         569.000000         569.000000       569.000000   \n",
              "unique               NaN                NaN              NaN   \n",
              "top                  NaN                NaN              NaN   \n",
              "freq                 NaN                NaN              NaN   \n",
              "mean            0.132369           0.254265         0.272188   \n",
              "std             0.022832           0.157336         0.208624   \n",
              "min             0.071170           0.027290         0.000000   \n",
              "25%             0.116600           0.147200         0.114500   \n",
              "50%             0.131300           0.211900         0.226700   \n",
              "75%             0.146000           0.339100         0.382900   \n",
              "max             0.222600           1.058000         1.252000   \n",
              "\n",
              "        concave points_worst  symmetry_worst  fractal_dimension_worst  \\\n",
              "count             569.000000      569.000000               569.000000   \n",
              "unique                   NaN             NaN                      NaN   \n",
              "top                      NaN             NaN                      NaN   \n",
              "freq                     NaN             NaN                      NaN   \n",
              "mean                0.114606        0.290076                 0.083946   \n",
              "std                 0.065732        0.061867                 0.018061   \n",
              "min                 0.000000        0.156500                 0.055040   \n",
              "25%                 0.064930        0.250400                 0.071460   \n",
              "50%                 0.099930        0.282200                 0.080040   \n",
              "75%                 0.161400        0.317900                 0.092080   \n",
              "max                 0.291000        0.663800                 0.207500   \n",
              "\n",
              "        Unnamed: 32  \n",
              "count           0.0  \n",
              "unique          NaN  \n",
              "top             NaN  \n",
              "freq            NaN  \n",
              "mean            NaN  \n",
              "std             NaN  \n",
              "min             NaN  \n",
              "25%             NaN  \n",
              "50%             NaN  \n",
              "75%             NaN  \n",
              "max             NaN  \n",
              "\n",
              "[11 rows x 33 columns]"
            ]
          },
          "execution_count": 77,
          "metadata": {},
          "output_type": "execute_result"
        }
      ],
      "source": [
        "# Statistics summary of the dataset\n",
        "BC_v.describe(include='all')"
      ]
    },
    {
      "cell_type": "code",
      "execution_count": null,
      "metadata": {
        "collapsed": true,
        "id": "6mUnM0qnVU3Y",
        "outputId": "91932f6a-d6fe-4371-a4fa-206e37489770"
      },
      "outputs": [
        {
          "data": {
            "text/plain": [
              "id                         569\n",
              "diagnosis                    2\n",
              "radius_mean                456\n",
              "texture_mean               479\n",
              "perimeter_mean             522\n",
              "area_mean                  539\n",
              "smoothness_mean            474\n",
              "compactness_mean           537\n",
              "concavity_mean             537\n",
              "concave points_mean        542\n",
              "symmetry_mean              432\n",
              "fractal_dimension_mean     499\n",
              "radius_se                  540\n",
              "texture_se                 519\n",
              "perimeter_se               533\n",
              "area_se                    528\n",
              "smoothness_se              547\n",
              "compactness_se             541\n",
              "concavity_se               533\n",
              "concave points_se          507\n",
              "symmetry_se                498\n",
              "fractal_dimension_se       545\n",
              "radius_worst               457\n",
              "texture_worst              511\n",
              "perimeter_worst            514\n",
              "area_worst                 544\n",
              "smoothness_worst           411\n",
              "compactness_worst          529\n",
              "concavity_worst            539\n",
              "concave points_worst       492\n",
              "symmetry_worst             500\n",
              "fractal_dimension_worst    535\n",
              "Unnamed: 32                  0\n",
              "dtype: int64"
            ]
          },
          "execution_count": 78,
          "metadata": {},
          "output_type": "execute_result"
        }
      ],
      "source": [
        "# If the numer of unique values are < 20 then the variable is likely to be a category otherwise continuous\n",
        "BC_v.nunique()"
      ]
    },
    {
      "cell_type": "code",
      "execution_count": null,
      "metadata": {
        "id": "UnzX0kA2VU3Y",
        "outputId": "f9879e67-3c69-4176-e028-7ca326f5c8b1"
      },
      "outputs": [
        {
          "data": {
            "text/plain": [
              "Index(['id', 'diagnosis', 'radius_mean', 'texture_mean', 'perimeter_mean',\n",
              "       'area_mean', 'smoothness_mean', 'compactness_mean', 'concavity_mean',\n",
              "       'concave points_mean', 'symmetry_mean', 'fractal_dimension_mean',\n",
              "       'radius_se', 'texture_se', 'perimeter_se', 'area_se', 'smoothness_se',\n",
              "       'compactness_se', 'concavity_se', 'concave points_se', 'symmetry_se',\n",
              "       'fractal_dimension_se', 'radius_worst', 'texture_worst',\n",
              "       'perimeter_worst', 'area_worst', 'smoothness_worst',\n",
              "       'compactness_worst', 'concavity_worst', 'concave points_worst',\n",
              "       'symmetry_worst', 'fractal_dimension_worst', 'Unnamed: 32'],\n",
              "      dtype='object')"
            ]
          },
          "execution_count": 79,
          "metadata": {},
          "output_type": "execute_result"
        }
      ],
      "source": [
        "BC_v.columns"
      ]
    },
    {
      "cell_type": "code",
      "execution_count": null,
      "metadata": {
        "id": "T6SWZRZ1VU3Y",
        "outputId": "b920a970-6722-4d24-ea52-5d64551f7790"
      },
      "outputs": [
        {
          "data": {
            "text/plain": [
              "<AxesSubplot:xlabel='diagnosis'>"
            ]
          },
          "execution_count": 98,
          "metadata": {},
          "output_type": "execute_result"
        },
        {
          "data": {
            "image/png": "[encoded data removed]",
            "text/plain": [
              "<Figure size 576x360 with 1 Axes>"
            ]
          },
          "metadata": {
            "needs_background": "light"
          },
          "output_type": "display_data"
        }
      ],
      "source": [
        "# Bar chart for the target variable \n",
        "GroupedData=BC_v.groupby('diagnosis').size()\n",
        "GroupedData.plot(kind='bar', figsize=(8,5))"
      ]
    },
    {
      "cell_type": "code",
      "execution_count": null,
      "metadata": {
        "id": "ppHA_P_aVU3Y",
        "outputId": "d747a88b-81c2-403a-c429-63dcf58363d7"
      },
      "outputs": [
        {
          "ename": "NameError",
          "evalue": "name 'Plot_Bar_Chart' is not defined",
          "output_type": "error",
          "traceback": [
            "\u001b[1;31m---------------------------------------------------------------------------\u001b[0m",
            "\u001b[1;31mNameError\u001b[0m                                 Traceback (most recent call last)",
            "\u001b[1;32m<ipython-input-1-f5d152390fa0>\u001b[0m in \u001b[0;36m<module>\u001b[1;34m\u001b[0m\n\u001b[1;32m----> 1\u001b[1;33m \u001b[0mPlot_Bar_Chart\u001b[0m\u001b[1;33m(\u001b[0m\u001b[0mdataset\u001b[0m\u001b[1;33m=\u001b[0m\u001b[0mBC_v\u001b[0m\u001b[1;33m,\u001b[0m  \u001b[0mfeatures_to_plot\u001b[0m\u001b[1;33m=\u001b[0m\u001b[1;33m[\u001b[0m\u001b[1;34m\"area_worst\"\u001b[0m\u001b[1;33m,\u001b[0m\u001b[1;33m]\u001b[0m\u001b[1;33m)\u001b[0m\u001b[1;33m\u001b[0m\u001b[1;33m\u001b[0m\u001b[0m\n\u001b[0m",
            "\u001b[1;31mNameError\u001b[0m: name 'Plot_Bar_Chart' is not defined"
          ]
        }
      ],
      "source": [
        "Plot_Bar_Chart(dataset=BC_v,  features_to_plot=[\"area_worst\",])"
      ]
    },
    {
      "cell_type": "code",
      "execution_count": null,
      "metadata": {
        "id": "arrZZTeqVU3Y"
      },
      "outputs": [],
      "source": []
    },
    {
      "cell_type": "code",
      "execution_count": null,
      "metadata": {
        "id": "P-1yjautVU3Y"
      },
      "outputs": [],
      "source": []
    },
    {
      "cell_type": "markdown",
      "metadata": {
        "id": "eSUOYCPcVU3Z"
      },
      "source": [
        "# B.2 Features Selection for Breast Cancer dataset."
      ]
    },
    {
      "cell_type": "markdown",
      "metadata": {
        "id": "YAN4iWXKVU3Z"
      },
      "source": [
        "<b> B.2.1 ANOVA test used when the relationship is between a categorical features and  a continuous features "
      ]
    },
    {
      "cell_type": "code",
      "execution_count": null,
      "metadata": {
        "collapsed": true,
        "id": "nvAvJtF1VU3Z",
        "outputId": "d717c23e-6d64-4e47-a806-25831e011ceb"
      },
      "outputs": [
        {
          "name": "stdout",
          "output_type": "stream",
          "text": [
            "####################################### ANOVA Results ################################################# \n",
            "\n",
            "radius_mean is correlated with diagnosis | P-Value: 8.465940572263339e-96\n",
            "texture_mean is correlated with diagnosis | P-Value: 4.0586360478986136e-25\n",
            "perimeter_mean is correlated with diagnosis | P-Value: 8.43625103617395e-101\n",
            "area_mean is correlated with diagnosis | P-Value: 4.734564310307994e-88\n",
            "smoothness_mean is correlated with diagnosis | P-Value: 1.0518503592033238e-18\n",
            "compactness_mean is correlated with diagnosis | P-Value: 3.938263105887557e-56\n",
            "concavity_mean is correlated with diagnosis | P-Value: 9.966555755074321e-84\n",
            "concave points_mean is correlated with diagnosis | P-Value: 7.101150161059557e-116\n",
            "symmetry_mean is correlated with diagnosis | P-Value: 5.73338402846732e-16\n",
            "fractal_dimension_mean is NOT correlated with diagnosis | P-Value: 0.7599368037255626\n",
            "radius_se is correlated with diagnosis | P-Value: 9.738948656462521e-50\n",
            "texture_se is NOT correlated with diagnosis | P-Value: 0.8433320287670788\n",
            "perimeter_se is correlated with diagnosis | P-Value: 1.6519051758498877e-47\n",
            "area_se is correlated with diagnosis | P-Value: 5.895521392606798e-46\n",
            "smoothness_se is NOT correlated with diagnosis | P-Value: 0.11029660865790443\n",
            "compactness_se is correlated with diagnosis | P-Value: 9.975994654075776e-13\n",
            "concavity_se is correlated with diagnosis | P-Value: 8.260176167970819e-10\n",
            "concave points_se is correlated with diagnosis | P-Value: 3.072308768818453e-24\n",
            "symmetry_se is NOT correlated with diagnosis | P-Value: 0.8766418183860331\n",
            "fractal_dimension_se is NOT correlated with diagnosis | P-Value: 0.06307355082240175\n",
            "radius_worst is correlated with diagnosis | P-Value: 8.482291921684514e-116\n",
            "texture_worst is correlated with diagnosis | P-Value: 1.0780574879494634e-30\n",
            "perimeter_worst is correlated with diagnosis | P-Value: 5.771397139670168e-119\n",
            "area_worst is correlated with diagnosis | P-Value: 2.8288477042872213e-97\n",
            "smoothness_worst is correlated with diagnosis | P-Value: 6.575143633984739e-26\n",
            "compactness_worst is correlated with diagnosis | P-Value: 7.069816352539104e-55\n",
            "concavity_worst is correlated with diagnosis | P-Value: 2.464663956782974e-72\n",
            "concave points_worst is correlated with diagnosis | P-Value: 1.9690997072166915e-124\n",
            "symmetry_worst is correlated with diagnosis | P-Value: 2.9511205771542106e-25\n",
            "fractal_dimension_worst is correlated with diagnosis | P-Value: 2.31643244998312e-15\n"
          ]
        }
      ],
      "source": [
        "# Defining a function to find the statistical relationship with all the categorical variables\n",
        "def FunctionAnova(dataset, Risk, numerical_features):\n",
        "   \n",
        "    # Creating an empty list of final selected predictors\n",
        "    SelectedPredictors=[]\n",
        "    \n",
        "    print('####################################### ANOVA Results ################################################# \\n')\n",
        "    for predictor in numerical_features:\n",
        "        CategoryGroupLists=dataset.groupby(Risk)[predictor].apply(list)\n",
        "        AnovaResults = f_oneway(*CategoryGroupLists)\n",
        "        \n",
        "        # If the ANOVA P-Value is <0.05, that means we reject H0\n",
        "        if (AnovaResults[1] < 0.05):\n",
        "            print(predictor, 'is correlated with', Risk, '| P-Value:', AnovaResults[1])\n",
        "            SelectedPredictors.append(predictor)\n",
        "        else:\n",
        "            print(predictor, 'is NOT correlated with', Risk, '| P-Value:', AnovaResults[1])\n",
        "    \n",
        "    return(SelectedPredictors)\n",
        "\n",
        "# Calling the function to check which categorical variables are correlated with target\n",
        "numerical_featuresss=[  'radius_mean', 'texture_mean', 'perimeter_mean',\n",
        "       'area_mean', 'smoothness_mean', 'compactness_mean', 'concavity_mean',\n",
        "       'concave points_mean', 'symmetry_mean', 'fractal_dimension_mean',\n",
        "       'radius_se', 'texture_se', 'perimeter_se', 'area_se', 'smoothness_se',\n",
        "       'compactness_se', 'concavity_se', 'concave points_se', 'symmetry_se',\n",
        "       'fractal_dimension_se', 'radius_worst', 'texture_worst',\n",
        "       'perimeter_worst', 'area_worst', 'smoothness_worst',\n",
        "       'compactness_worst', 'concavity_worst', 'concave points_worst',\n",
        "       'symmetry_worst', 'fractal_dimension_worst']\n",
        "FunctionAnova(dataset=BC_v, Risk='diagnosis', numerical_features=numerical_featuresss)\n",
        "\n",
        "# Box plots for Categorical Target Variable \"GoodCredit\" and continuous predictors\n",
        "ContinuousColsList=['radius_mean', 'texture_mean', 'perimeter_mean',\n",
        "       'area_mean', 'smoothness_mean', 'compactness_mean', 'concavity_mean',\n",
        "       'concave points_mean', 'symmetry_mean', 'fractal_dimension_mean',\n",
        "       'radius_se', 'texture_se', 'perimeter_se', 'area_se', 'smoothness_se',\n",
        "       'compactness_se', 'concavity_se', 'concave points_se', 'symmetry_se',\n",
        "       'fractal_dimension_se', 'radius_worst', 'texture_worst',\n",
        "       'perimeter_worst', 'area_worst', 'smoothness_worst',\n",
        "       'compactness_worst', 'concavity_worst', 'concave points_worst',\n",
        "       'symmetry_worst', 'fractal_dimension_worst']\n",
        "\n",
        "#fig, PlotCanvas=plt.subplots(nrows=1, ncols=len(ContinuousColsList), figsize=(18,5))\n",
        "\n",
        "#print('\\n')\n",
        "#print('########################################## Box plot ################################################# \\n')\n",
        " \n",
        "# Creating box plots for each continuous predictor against the Target Variable \"GoodCredit\"\n",
        "#for PredictorCol , i in zip(ContinuousColsList, range(len(ContinuousColsList))):\n",
        " #   BC.boxplot(column=PredictorCol, by='diagnosis', figsize=(5,5), vert=True, ax=PlotCanvas[i])"
      ]
    },
    {
      "cell_type": "markdown",
      "metadata": {
        "id": "CS_VrEOhVU3Z"
      },
      "source": [
        "<b> B.2.2 Additional exploration by correlation matrix </b> "
      ]
    },
    {
      "cell_type": "code",
      "execution_count": null,
      "metadata": {
        "collapsed": true,
        "id": "8-YRZHDLVU3Z",
        "outputId": "74591ece-409b-4767-c2ab-493cd3fa020d"
      },
      "outputs": [
        {
          "data": {
            "image/png": "[encoded data removed]",
            "text/plain": [
              "<Figure size 432x288 with 2 Axes>"
            ]
          },
          "metadata": {
            "needs_background": "light"
          },
          "output_type": "display_data"
        }
      ],
      "source": [
        "# Correlation Matrix\n",
        "corr = BC_v.corr()\n",
        "ax = sns.heatmap(\n",
        "    corr, \n",
        "    vmin=-1, vmax=1, center=0,\n",
        "    cmap=sns.diverging_palette(20, 220, n=1000),\n",
        "    square=True\n",
        ")\n",
        "ax.set_xticklabels(\n",
        "    ax.get_xticklabels(),\n",
        "    rotation=45,\n",
        "    horizontalalignment='right'\n",
        ");"
      ]
    },
    {
      "cell_type": "markdown",
      "metadata": {
        "id": "PVDQD3O2VU3Z"
      },
      "source": [
        "Since machine learning deals with correlated variables (features) to the target class, then,the correlated (features) variables that I selected to use for model predication are the following: \n",
        "\n",
        "\n",
        "1. radius_mean \n",
        "2. texture_mean \n",
        "3. perimeter_mean \n",
        "4. area_mean \n",
        "5. smoothness_mean \n",
        "6. compactness_mean \n",
        "7. concavity_mean \n",
        "8. concave points_mean\n",
        "9. symmetry_mean\n",
        "10. radius_se \n",
        "11. perimeter_se \n",
        "12. area_se \n",
        "13. compactness_se \n",
        "14. concavity_se \n",
        "15. concave points_se\n",
        "16. radius_worst\n",
        "17. texture_worst\n",
        "18. perimeter_worst\n",
        "19. area_worst\n",
        "20. smoothness_worst \n",
        "21. compactness_worst \n",
        "22. concavity_worst \n",
        "23. concave points_worst\n",
        "24. symmetry_worst \n",
        "25. fractal_dimension_worst "
      ]
    },
    {
      "cell_type": "markdown",
      "metadata": {
        "id": "YfyJabmqVU3a"
      },
      "source": [
        "# B.3 Data pre-processing fro Breast Cancer Dataset."
      ]
    },
    {
      "cell_type": "code",
      "execution_count": null,
      "metadata": {
        "collapsed": true,
        "id": "5c0UNaysVU3a",
        "outputId": "c6d4fcd9-d930-472b-dd1d-252d14a3cb27"
      },
      "outputs": [
        {
          "data": {
            "text/html": [
              "<div>\n",
              "<style scoped>\n",
              "    .dataframe tbody tr th:only-of-type {\n",
              "        vertical-align: middle;\n",
              "    }\n",
              "\n",
              "    .dataframe tbody tr th {\n",
              "        vertical-align: top;\n",
              "    }\n",
              "\n",
              "    .dataframe thead th {\n",
              "        text-align: right;\n",
              "    }\n",
              "</style>\n",
              "<table border=\"1\" class=\"dataframe\">\n",
              "  <thead>\n",
              "    <tr style=\"text-align: right;\">\n",
              "      <th></th>\n",
              "      <th>radius_mean</th>\n",
              "      <th>texture_mean</th>\n",
              "      <th>perimeter_mean</th>\n",
              "      <th>area_mean</th>\n",
              "      <th>smoothness_mean</th>\n",
              "      <th>compactness_mean</th>\n",
              "      <th>concavity_mean</th>\n",
              "      <th>concave points_mean</th>\n",
              "      <th>symmetry_mean</th>\n",
              "      <th>radius_se</th>\n",
              "      <th>...</th>\n",
              "      <th>radius_worst</th>\n",
              "      <th>texture_worst</th>\n",
              "      <th>perimeter_worst</th>\n",
              "      <th>area_worst</th>\n",
              "      <th>smoothness_worst</th>\n",
              "      <th>compactness_worst</th>\n",
              "      <th>concavity_worst</th>\n",
              "      <th>concave points_worst</th>\n",
              "      <th>symmetry_worst</th>\n",
              "      <th>fractal_dimension_worst</th>\n",
              "    </tr>\n",
              "  </thead>\n",
              "  <tbody>\n",
              "    <tr>\n",
              "      <th>0</th>\n",
              "      <td>17.99</td>\n",
              "      <td>10.38</td>\n",
              "      <td>122.80</td>\n",
              "      <td>1001.0</td>\n",
              "      <td>0.11840</td>\n",
              "      <td>0.27760</td>\n",
              "      <td>0.3001</td>\n",
              "      <td>0.14710</td>\n",
              "      <td>0.2419</td>\n",
              "      <td>1.0950</td>\n",
              "      <td>...</td>\n",
              "      <td>25.38</td>\n",
              "      <td>17.33</td>\n",
              "      <td>184.60</td>\n",
              "      <td>2019.0</td>\n",
              "      <td>0.1622</td>\n",
              "      <td>0.6656</td>\n",
              "      <td>0.7119</td>\n",
              "      <td>0.2654</td>\n",
              "      <td>0.4601</td>\n",
              "      <td>0.11890</td>\n",
              "    </tr>\n",
              "    <tr>\n",
              "      <th>1</th>\n",
              "      <td>20.57</td>\n",
              "      <td>17.77</td>\n",
              "      <td>132.90</td>\n",
              "      <td>1326.0</td>\n",
              "      <td>0.08474</td>\n",
              "      <td>0.07864</td>\n",
              "      <td>0.0869</td>\n",
              "      <td>0.07017</td>\n",
              "      <td>0.1812</td>\n",
              "      <td>0.5435</td>\n",
              "      <td>...</td>\n",
              "      <td>24.99</td>\n",
              "      <td>23.41</td>\n",
              "      <td>158.80</td>\n",
              "      <td>1956.0</td>\n",
              "      <td>0.1238</td>\n",
              "      <td>0.1866</td>\n",
              "      <td>0.2416</td>\n",
              "      <td>0.1860</td>\n",
              "      <td>0.2750</td>\n",
              "      <td>0.08902</td>\n",
              "    </tr>\n",
              "    <tr>\n",
              "      <th>2</th>\n",
              "      <td>19.69</td>\n",
              "      <td>21.25</td>\n",
              "      <td>130.00</td>\n",
              "      <td>1203.0</td>\n",
              "      <td>0.10960</td>\n",
              "      <td>0.15990</td>\n",
              "      <td>0.1974</td>\n",
              "      <td>0.12790</td>\n",
              "      <td>0.2069</td>\n",
              "      <td>0.7456</td>\n",
              "      <td>...</td>\n",
              "      <td>23.57</td>\n",
              "      <td>25.53</td>\n",
              "      <td>152.50</td>\n",
              "      <td>1709.0</td>\n",
              "      <td>0.1444</td>\n",
              "      <td>0.4245</td>\n",
              "      <td>0.4504</td>\n",
              "      <td>0.2430</td>\n",
              "      <td>0.3613</td>\n",
              "      <td>0.08758</td>\n",
              "    </tr>\n",
              "    <tr>\n",
              "      <th>3</th>\n",
              "      <td>11.42</td>\n",
              "      <td>20.38</td>\n",
              "      <td>77.58</td>\n",
              "      <td>386.1</td>\n",
              "      <td>0.14250</td>\n",
              "      <td>0.28390</td>\n",
              "      <td>0.2414</td>\n",
              "      <td>0.10520</td>\n",
              "      <td>0.2597</td>\n",
              "      <td>0.4956</td>\n",
              "      <td>...</td>\n",
              "      <td>14.91</td>\n",
              "      <td>26.50</td>\n",
              "      <td>98.87</td>\n",
              "      <td>567.7</td>\n",
              "      <td>0.2098</td>\n",
              "      <td>0.8663</td>\n",
              "      <td>0.6869</td>\n",
              "      <td>0.2575</td>\n",
              "      <td>0.6638</td>\n",
              "      <td>0.17300</td>\n",
              "    </tr>\n",
              "    <tr>\n",
              "      <th>4</th>\n",
              "      <td>20.29</td>\n",
              "      <td>14.34</td>\n",
              "      <td>135.10</td>\n",
              "      <td>1297.0</td>\n",
              "      <td>0.10030</td>\n",
              "      <td>0.13280</td>\n",
              "      <td>0.1980</td>\n",
              "      <td>0.10430</td>\n",
              "      <td>0.1809</td>\n",
              "      <td>0.7572</td>\n",
              "      <td>...</td>\n",
              "      <td>22.54</td>\n",
              "      <td>16.67</td>\n",
              "      <td>152.20</td>\n",
              "      <td>1575.0</td>\n",
              "      <td>0.1374</td>\n",
              "      <td>0.2050</td>\n",
              "      <td>0.4000</td>\n",
              "      <td>0.1625</td>\n",
              "      <td>0.2364</td>\n",
              "      <td>0.07678</td>\n",
              "    </tr>\n",
              "  </tbody>\n",
              "</table>\n",
              "<p>5 rows × 25 columns</p>\n",
              "</div>"
            ],
            "text/plain": [
              "   radius_mean  texture_mean  perimeter_mean  area_mean  smoothness_mean  \\\n",
              "0        17.99         10.38          122.80     1001.0          0.11840   \n",
              "1        20.57         17.77          132.90     1326.0          0.08474   \n",
              "2        19.69         21.25          130.00     1203.0          0.10960   \n",
              "3        11.42         20.38           77.58      386.1          0.14250   \n",
              "4        20.29         14.34          135.10     1297.0          0.10030   \n",
              "\n",
              "   compactness_mean  concavity_mean  concave points_mean  symmetry_mean  \\\n",
              "0           0.27760          0.3001              0.14710         0.2419   \n",
              "1           0.07864          0.0869              0.07017         0.1812   \n",
              "2           0.15990          0.1974              0.12790         0.2069   \n",
              "3           0.28390          0.2414              0.10520         0.2597   \n",
              "4           0.13280          0.1980              0.10430         0.1809   \n",
              "\n",
              "   radius_se  ...  radius_worst  texture_worst  perimeter_worst  area_worst  \\\n",
              "0     1.0950  ...         25.38          17.33           184.60      2019.0   \n",
              "1     0.5435  ...         24.99          23.41           158.80      1956.0   \n",
              "2     0.7456  ...         23.57          25.53           152.50      1709.0   \n",
              "3     0.4956  ...         14.91          26.50            98.87       567.7   \n",
              "4     0.7572  ...         22.54          16.67           152.20      1575.0   \n",
              "\n",
              "   smoothness_worst  compactness_worst  concavity_worst  concave points_worst  \\\n",
              "0            0.1622             0.6656           0.7119                0.2654   \n",
              "1            0.1238             0.1866           0.2416                0.1860   \n",
              "2            0.1444             0.4245           0.4504                0.2430   \n",
              "3            0.2098             0.8663           0.6869                0.2575   \n",
              "4            0.1374             0.2050           0.4000                0.1625   \n",
              "\n",
              "   symmetry_worst  fractal_dimension_worst  \n",
              "0          0.4601                  0.11890  \n",
              "1          0.2750                  0.08902  \n",
              "2          0.3613                  0.08758  \n",
              "3          0.6638                  0.17300  \n",
              "4          0.2364                  0.07678  \n",
              "\n",
              "[5 rows x 25 columns]"
            ]
          },
          "execution_count": 83,
          "metadata": {},
          "output_type": "execute_result"
        }
      ],
      "source": [
        "Selected_Features =['radius_mean', 'texture_mean', 'perimeter_mean',\n",
        "       'area_mean', 'smoothness_mean', 'compactness_mean', 'concavity_mean',\n",
        "       'concave points_mean', 'symmetry_mean',\n",
        "       'radius_se', 'perimeter_se', 'area_se',\n",
        "       'compactness_se', 'concavity_se', 'concave points_se'\n",
        "       , 'radius_worst', 'texture_worst',\n",
        "       'perimeter_worst', 'area_worst', 'smoothness_worst',\n",
        "       'compactness_worst', 'concavity_worst', 'concave points_worst',\n",
        "       'symmetry_worst', 'fractal_dimension_worst']\n",
        "\n",
        "# Selecting final features for ML model \n",
        "BC_for_ML=BC_v[Selected_Features]\n",
        "BC_for_ML.head()"
      ]
    },
    {
      "cell_type": "code",
      "execution_count": null,
      "metadata": {
        "id": "KlrmadUaVU3a"
      },
      "outputs": [],
      "source": [
        "# Saving this final data for reference during deployment\n",
        "BC_for_ML.to_pickle('BC_for_ML.pkl') # Looking for help ya allah "
      ]
    },
    {
      "cell_type": "code",
      "execution_count": null,
      "metadata": {
        "collapsed": true,
        "id": "CXZNxSusVU3a",
        "outputId": "cd700360-82c0-495a-c8b3-9d10287ebe85"
      },
      "outputs": [
        {
          "data": {
            "text/plain": [
              "Index(['radius_mean', 'texture_mean', 'perimeter_mean', 'area_mean',\n",
              "       'smoothness_mean', 'compactness_mean', 'concavity_mean',\n",
              "       'concave points_mean', 'symmetry_mean', 'radius_se', 'perimeter_se',\n",
              "       'area_se', 'compactness_se', 'concavity_se', 'concave points_se',\n",
              "       'radius_worst', 'texture_worst', 'perimeter_worst', 'area_worst',\n",
              "       'smoothness_worst', 'compactness_worst', 'concavity_worst',\n",
              "       'concave points_worst', 'symmetry_worst', 'fractal_dimension_worst'],\n",
              "      dtype='object')"
            ]
          },
          "execution_count": 85,
          "metadata": {},
          "output_type": "execute_result"
        }
      ],
      "source": [
        "BC_for_ML.columns"
      ]
    },
    {
      "cell_type": "code",
      "execution_count": null,
      "metadata": {
        "id": "yy9pBAC7VU3a",
        "outputId": "748e5148-9fdd-48b7-fb4d-587f30dcbfed"
      },
      "outputs": [
        {
          "name": "stderr",
          "output_type": "stream",
          "text": [
            "<ipython-input-86-3cbc9a0fafd0>:1: SettingWithCopyWarning: \n",
            "A value is trying to be set on a copy of a slice from a DataFrame.\n",
            "Try using .loc[row_indexer,col_indexer] = value instead\n",
            "\n",
            "See the caveats in the documentation: https://pandas.pydata.org/pandas-docs/stable/user_guide/indexing.html#returning-a-view-versus-a-copy\n",
            "  BC_for_ML['diagnosis']=BC_v['diagnosis']\n"
          ]
        }
      ],
      "source": [
        "BC_for_ML['diagnosis']=BC_v['diagnosis']"
      ]
    },
    {
      "cell_type": "code",
      "execution_count": null,
      "metadata": {
        "id": "w01FB1UXVU3a"
      },
      "outputs": [],
      "source": [
        "# Separate Target Variable (diagnosis) and Predictor Variables (25 features)\n",
        " \n",
        "\n",
        "Risk='diagnosis'\n",
        "Predictors=['radius_mean', 'texture_mean', 'perimeter_mean', 'area_mean',\n",
        "       'smoothness_mean', 'compactness_mean', 'concavity_mean',\n",
        "       'concave points_mean', 'symmetry_mean', 'radius_se', 'perimeter_se',\n",
        "       'area_se', 'compactness_se', 'concavity_se', 'concave points_se',\n",
        "       'radius_worst', 'texture_worst', 'perimeter_worst', 'area_worst',\n",
        "       'smoothness_worst', 'compactness_worst', 'concavity_worst',\n",
        "       'concave points_worst', 'symmetry_worst', 'fractal_dimension_worst']\n",
        "\n",
        "X_for_BC=BC_for_ML[Predictors].values\n",
        "y_for_BC=BC_for_ML[Risk].values\n",
        "\n",
        "# Split the data into training and testing set\n",
        "X_train_for_BC, X_test_for_BC, y_train_for_BC, y_test_for_BC = train_test_split(X_for_BC, y_for_BC, test_size=0.3, random_state=428)"
      ]
    },
    {
      "cell_type": "code",
      "execution_count": null,
      "metadata": {
        "id": "3AQDvOvsVU3b"
      },
      "outputs": [],
      "source": [
        "# On this data Min Max Normalization produced better results\n",
        "PredictorScaler=MinMaxScaler()\n",
        "# Storing the fit object for later reference\n",
        "PredictorScalerFit=PredictorScaler.fit(X_for_BC)\n",
        "# Generating the standardized values of X\n",
        "X_BC=PredictorScalerFit.transform(X_for_BC)\n",
        "# Split the data into training and testing set\n",
        "X_train_for_BC_nor, X_test_for_BC_nor, y_train_for_BC_nor, y_test_for_BC_nor = train_test_split(X_BC, y_for_BC, test_size=0.3, random_state=42)"
      ]
    },
    {
      "cell_type": "code",
      "execution_count": null,
      "metadata": {
        "id": "jzg6Zh_JVU3b",
        "outputId": "5c191327-1287-43b1-d8b0-8a1116f0d1aa",
        "scrolled": false
      },
      "outputs": [
        {
          "name": "stdout",
          "output_type": "stream",
          "text": [
            "(398, 25)\n",
            "(398,)\n",
            "(171, 25)\n",
            "(171,)\n"
          ]
        }
      ],
      "source": [
        "# Sanity check for the sampled data\n",
        "print(X_train_for_BC_nor.shape)\n",
        "print(y_train_for_BC_nor.shape)\n",
        "print(X_test_for_BC_nor.shape)\n",
        "print(y_test_for_BC_nor.shape)"
      ]
    },
    {
      "cell_type": "markdown",
      "metadata": {
        "id": "ByKaM4lVVU3b"
      },
      "source": [
        "# Now \n",
        "Dataset (B) ready to feed into SVM & Random Forest Models.\n",
        "\n",
        "To train the models I will use the following sets:\n",
        "- X_train_for_BC_nor\n",
        "- X_test_for_BC_nor\n",
        "- y_train_for_BC_nor\n",
        "- y_test_for_BC_nor </b> "
      ]
    },
    {
      "cell_type": "markdown",
      "metadata": {
        "id": "SaR01peQVU3b"
      },
      "source": [
        "# B.4 Models development & Evaluation for Breast Cancer Dataset"
      ]
    },
    {
      "cell_type": "markdown",
      "metadata": {
        "id": "8KZhXs-lVU3b"
      },
      "source": [
        "<b> Naive Bayes model - BCD"
      ]
    },
    {
      "cell_type": "code",
      "execution_count": null,
      "metadata": {
        "id": "ZTEtTVU7VU3b",
        "outputId": "6f0603d8-8baf-4d82-98be-3593cb051e51"
      },
      "outputs": [
        {
          "name": "stdout",
          "output_type": "stream",
          "text": [
            "GaussianNB()\n",
            "              precision    recall  f1-score   support\n",
            "\n",
            "           B       0.94      0.95      0.95       108\n",
            "           M       0.92      0.90      0.91        63\n",
            "\n",
            "    accuracy                           0.94       171\n",
            "   macro avg       0.93      0.93      0.93       171\n",
            "weighted avg       0.94      0.94      0.94       171\n",
            "\n",
            "[[103   5]\n",
            " [  6  57]]\n",
            "Accuracy of the model on Testing Sample Data: 0.94\n",
            "\n",
            "Accuracy values for 10-fold Cross Validation:\n",
            " [0.93031812 0.8776676  0.89196676 0.92901849 0.92982456 0.98236235\n",
            " 0.92901849 0.96491228 0.89621753 0.94615252]\n",
            "\n",
            "Final Average Accuracy of the model: 0.93\n"
          ]
        }
      ],
      "source": [
        "# Naive Bays\n",
        "from sklearn.naive_bayes import GaussianNB, MultinomialNB\n",
        "\n",
        "# GaussianNB is used in Binomial Classification\n",
        "# MultinomialNB is used in multi-class classification\n",
        "clf = GaussianNB()\n",
        "#clf = MultinomialNB()\n",
        "\n",
        "# Printing all the parameters of Naive Bayes\n",
        "print(clf)\n",
        "\n",
        "NB=clf.fit(X_train_for_BC_nor,y_train_for_BC_nor)\n",
        "prediction=NB.predict(X_test_for_BC_nor)\n",
        "\n",
        "# Measuring accuracy on Testing Data\n",
        "from sklearn import metrics\n",
        "print(metrics.classification_report(y_test_for_BC_nor, prediction))\n",
        "print(metrics.confusion_matrix(y_test_for_BC_nor, prediction))\n",
        "\n",
        "# Printing the Overall Accuracy of the model\n",
        "F1_Score=metrics.f1_score(y_test_for_BC_nor, prediction, average='weighted')\n",
        "print('Accuracy of the model on Testing Sample Data:', round(F1_Score,2))\n",
        "\n",
        "# Importing cross validation function from sklearn\n",
        "from sklearn.model_selection import cross_val_score\n",
        "\n",
        "# Running 10-Fold Cross validation on a given algorithm\n",
        "# Passing full data X and y because the K-fold will split the data and automatically choose train/test\n",
        "Accuracy_Values=cross_val_score(NB, X_BC , y_for_BC, cv=10, scoring='f1_weighted')\n",
        "print('\\nAccuracy values for 10-fold Cross Validation:\\n',Accuracy_Values)\n",
        "print('\\nFinal Average Accuracy of the model:', round(Accuracy_Values.mean(),2))"
      ]
    },
    {
      "cell_type": "markdown",
      "metadata": {
        "id": "qOLYNmnWVU3c"
      },
      "source": [
        "<b> SVM Model - BCD </b>"
      ]
    },
    {
      "cell_type": "code",
      "execution_count": null,
      "metadata": {
        "id": "Ua2ko47nVU3c",
        "outputId": "386be9a5-eae4-4ea0-eaf5-8f34436a9936"
      },
      "outputs": [
        {
          "name": "stdout",
          "output_type": "stream",
          "text": [
            "SVC(C=2, gamma=0.1)\n",
            "              precision    recall  f1-score   support\n",
            "\n",
            "           B       0.96      0.99      0.97       108\n",
            "           M       0.98      0.92      0.95        63\n",
            "\n",
            "    accuracy                           0.96       171\n",
            "   macro avg       0.97      0.96      0.96       171\n",
            "weighted avg       0.97      0.96      0.96       171\n",
            "\n",
            "[[107   1]\n",
            " [  5  58]]\n",
            "Accuracy of the model on Testing Sample Data: 0.96\n",
            "\n",
            "Accuracy values for 10-fold Cross Validation:\n",
            " [0.98237569 0.94652435 0.94639676 0.98236235 0.96450925 0.96450925\n",
            " 0.94639676 0.98236235 0.98236235 0.96428571]\n",
            "\n",
            "Final Average Accuracy of the model: 0.97\n"
          ]
        }
      ],
      "source": [
        "clf = svm.SVC(C=2, kernel='rbf', gamma=0.1)\n",
        "# Printing all the parameters of SVM\n",
        "print(clf)\n",
        "\n",
        "# Creating the model on Training Data\n",
        "SVM=clf.fit(X_train_for_BC_nor,y_train_for_BC_nor)\n",
        "prediction=SVM.predict(X_test_for_BC_nor)\n",
        "\n",
        "# Measuring accuracy on Testing Data\n",
        "print(metrics.classification_report(y_test_for_BC_nor, prediction))\n",
        "print(metrics.confusion_matrix(y_test_for_BC_nor, prediction))\n",
        "\n",
        "# Printing the Overall Accuracy of the model\n",
        "F1_Score=metrics.f1_score(y_test_for_BC_nor, prediction, average='weighted')\n",
        "print('Accuracy of the model on Testing Sample Data:', round(F1_Score,2))\n",
        "\n",
        "# Running 10-Fold Cross validation on a given algorithm\n",
        "# Passing full data X and y because the K-fold will split the data and automatically choose train/test\n",
        "Accuracy_Values=cross_val_score(SVM, X_BC , y_for_BC, cv=10, scoring='f1_weighted')\n",
        "print('\\nAccuracy values for 10-fold Cross Validation:\\n',Accuracy_Values)\n",
        "print('\\nFinal Average Accuracy of the model:', round(Accuracy_Values.mean(),2))\n",
        "\n",
        "\n",
        "# Plotting the feature importance for Top 10 most important columns\n",
        "# The built in attribute SVM.coef_ works only for linear kernel\n",
        "%matplotlib inline\n",
        "#feature_importances = pd.Series(SVM.coef_[0], index=Predictors)\n",
        "#feature_importances.nlargest(10).plot(kind='barh')\n"
      ]
    },
    {
      "cell_type": "markdown",
      "metadata": {
        "id": "3ioxUU-oVU3c"
      },
      "source": [
        "<b> Random forest model - BCD"
      ]
    },
    {
      "cell_type": "code",
      "execution_count": null,
      "metadata": {
        "id": "_mf-kDzMVU3c",
        "outputId": "e44c6561-341f-4f72-d580-a055d1cf19f5"
      },
      "outputs": [
        {
          "name": "stdout",
          "output_type": "stream",
          "text": [
            "RandomForestClassifier(max_depth=10)\n",
            "              precision    recall  f1-score   support\n",
            "\n",
            "           B       0.96      0.98      0.97       108\n",
            "           M       0.97      0.94      0.95        63\n",
            "\n",
            "    accuracy                           0.96       171\n",
            "   macro avg       0.97      0.96      0.96       171\n",
            "weighted avg       0.96      0.96      0.96       171\n",
            "\n",
            "[[106   2]\n",
            " [  4  59]]\n",
            "Accuracy of the model on Testing Sample Data: 0.96\n",
            "\n",
            "Accuracy values for 10-fold Cross Validation:\n",
            " [0.98252394 0.87662983 0.94708706 0.94639676 0.98236235 0.98253659\n",
            " 0.96450925 0.98236235 0.94760977 0.9822211 ]\n",
            "\n",
            "Final Average Accuracy of the model: 0.96\n"
          ]
        },
        {
          "data": {
            "text/plain": [
              "<AxesSubplot:>"
            ]
          },
          "execution_count": 97,
          "metadata": {},
          "output_type": "execute_result"
        },
        {
          "data": {
            "image/png": "[encoded data removed]",
            "text/plain": [
              "<Figure size 432x288 with 1 Axes>"
            ]
          },
          "metadata": {
            "needs_background": "light"
          },
          "output_type": "display_data"
        }
      ],
      "source": [
        "# Random Forest (Bagging of multiple Decision Trees)\n",
        "from sklearn.ensemble import RandomForestClassifier\n",
        "# Choose various values of max_depth, n_estimators and criterion for tuning the model\n",
        "clf = RandomForestClassifier(max_depth=10, n_estimators=100,criterion='gini')\n",
        "\n",
        "\n",
        "# Printing all the parameters of Random Forest\n",
        "print(clf)\n",
        "\n",
        "# Creating the model on Training Data\n",
        "RF=clf.fit(X_train_for_BC_nor,y_train_for_BC_nor)\n",
        "prediction=RF.predict(X_test_for_BC_nor)\n",
        "\n",
        "# Measuring accuracy on Testing Data\n",
        "from sklearn import metrics\n",
        "print(metrics.classification_report(y_test_for_BC_nor, prediction))\n",
        "print(metrics.confusion_matrix(y_test_for_BC_nor, prediction))\n",
        "\n",
        "# Printing the Overall Accuracy of the model\n",
        "F1_Score=metrics.f1_score(y_test_for_BC_nor, prediction, average='weighted')\n",
        "print('Accuracy of the model on Testing Sample Data:', round(F1_Score,2))\n",
        "\n",
        "# Importing cross validation function from sklearn\n",
        "from sklearn.model_selection import cross_val_score\n",
        "\n",
        "# Running 10-Fold Cross validation on a given algorithm\n",
        "# Passing full data X and y because the K-fold will split the data and automatically choose train/test\n",
        "Accuracy_Values=cross_val_score(RF, X_BC , y_for_BC, cv=10, scoring='f1_weighted')\n",
        "print('\\nAccuracy values for 10-fold Cross Validation:\\n',Accuracy_Values)\n",
        "print('\\nFinal Average Accuracy of the model:', round(Accuracy_Values.mean(),2))\n",
        "\n",
        "\n",
        "# Plotting the feature importance for Top 10 most important columns\n",
        "%matplotlib inline\n",
        "feature_importances = pd.Series(RF.feature_importances_, index=Predictors)\n",
        "feature_importances.nlargest(10).plot(kind='barh')"
      ]
    },
    {
      "cell_type": "markdown",
      "metadata": {
        "id": "6YQoQmBtVU3c"
      },
      "source": [
        "# Refrencess: \n",
        "\n",
        "1. https://scikit-learn.org/stable/modules/generated/sklearn.naive_bayes.GaussianNB.html\n",
        "\n",
        "2. https://scikit-learn.org/stable/modules/svm.html\n",
        "\n",
        "3. https://scikit-learn.org/stable/modules/generated/sklearn.ensemble.RandomForestClassifier.html\n",
        "\n",
        "4. https://surreylearn.surrey.ac.uk/d2l/le/lessons/209089/lessons/2080854\n",
        "\n",
        "5. https://scikit-learn.org/stable/modules/generated/sklearn.metrics.confusion_matrix.html\n",
        "\n",
        "6. https://machinelearningmastery.com/imbalanced-classification-of-good-and-bad-credit/\n",
        "\n",
        "7. https://surreylearn.surrey.ac.uk/d2l/le/lessons/209089/lessons/2091009\n",
        "\n",
        "8. https://surreylearn.surrey.ac.uk/d2l/le/lessons/209089/lessons/2085599\n",
        "\n",
        "9. https://thinkingneuron.com/german-credit-risk-classification-case-study-in-python/\n",
        "\n",
        "10. https://machinelearningmastery.com/imbalanced-classification-of-good-and-bad-credit/\n",
        " \n",
        "11. https://www.analyticsvidhya.com/blog/2020/10/how-to-choose-evaluation-metrics-for-classification-model/\n",
        "12. https://www.ritchieng.com/machine-learning-evaluate-classification-model/\n",
        "\n"
      ]
    },
    {
      "cell_type": "markdown",
      "metadata": {
        "id": "UYFOso8yVU3c"
      },
      "source": [
        "# Data preprocessing (Summary)\n",
        "\n",
        "This section is a summary for the feautres selected from both dataset (A) & (B). After applied ANOVA test & Chi-square. \n",
        "\n",
        "<b> Dataset (A) features: </b>\n",
        "1. Status of existing checking account\n",
        "2. Credit history\n",
        "3. Purpose\n",
        "4. Credit amount\n",
        "5. Savings account/bonds\n",
        "6. Present employment since\n",
        "7. Personal status and sex\n",
        "8. Other debtors / guarantors\n",
        "9. Property\n",
        "10. Other installment plans\n",
        "11. Housing\n",
        "12. Foreign worker\n",
        "\n",
        "\n",
        "<b> Dataset (B) features: </b>\n",
        "\n",
        "1. radius_mean \n",
        "2. texture_mean \n",
        "3. perimeter_mean \n",
        "4. area_mean \n",
        "5. smoothness_mean \n",
        "6. compactness_mean \n",
        "7. concavity_mean \n",
        "8. concave points_mean\n",
        "9. symmetry_mean\n",
        "10. radius_se \n",
        "11. perimeter_se \n",
        "12. area_se \n",
        "13. compactness_se \n",
        "14. concavity_se \n",
        "15. concave points_se\n",
        "16. radius_worst\n",
        "17. texture_worst\n",
        "18. perimeter_worst\n",
        "19. area_worst\n",
        "20. smoothness_worst \n",
        "21. compactness_worst \n",
        "22. concavity_worst \n",
        "23. concave points_worst\n",
        "24. symmetry_worst \n",
        "25. fractal_dimension_worst \n",
        "\n"
      ]
    },
    {
      "cell_type": "markdown",
      "metadata": {
        "id": "R2Dlf6fAVU3f"
      },
      "source": [
        "# Models Accurices \n",
        "\n",
        "\n",
        " <b> German Credit Dataset: </b>\n",
        "\n",
        "\n",
        "- Support Vector Machine\t73%\t\n",
        "- Random Forest\t71%\t\n",
        "- Gaussian Naïve Bayes\t69%\t\n",
        "\n",
        "<b> Breast Cancer Dataset: </b>\n",
        "\n",
        "- Support Vector Machine\t97%\n",
        "- Random Forest\t96%\t\n",
        "- Gaussian Naïve Bayes\t93%\n",
        "\n",
        "\n"
      ]
    },
    {
      "cell_type": "markdown",
      "metadata": {
        "id": "UnUAivAeVU3g"
      },
      "source": [
        "# End of Notebook "
      ]
    }
  ],
  "metadata": {
    "colab": {
      "provenance": []
    },
    "kernelspec": {
      "display_name": "Python 3",
      "language": "python",
      "name": "python3"
    },
    "language_info": {
      "codemirror_mode": {
        "name": "ipython",
        "version": 3
      },
      "file_extension": ".py",
      "mimetype": "text/x-python",
      "name": "python",
      "nbconvert_exporter": "python",
      "pygments_lexer": "ipython3",
      "version": "3.8.5"
    }
  },
  "nbformat": 4,
  "nbformat_minor": 0
}
